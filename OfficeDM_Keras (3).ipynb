{
  "nbformat": 4,
  "nbformat_minor": 0,
  "metadata": {
    "colab": {
      "name": "OfficeDM-Keras.ipynb",
      "provenance": [],
      "collapsed_sections": []
    },
    "kernelspec": {
      "name": "python3",
      "display_name": "Python 3"
    }
  },
  "cells": [
    {
      "cell_type": "markdown",
      "metadata": {
        "id": "YZyxQOXVmyIv",
        "colab_type": "text"
      },
      "source": [
        "The information contained in this csv file was taken from actual office records. The exact date of birth within the month was randomly changed for all entries due to HIPAA regulations. \n",
        "BMI is Body Mass Index. The next two columns are Date of Birth and Sex. The columns which follow represent whether there was the presence of non-insulin \n",
        "dependent diabetes mellitus, insulin dependent diabetes melitus, peripheral vascular disease (as evidenced by one or two non-palpable pedal pulses, \n",
        "skin atrophy, decreased hair, and nail changes), neuropathy (as evidenced by decreased sensation of the 5.07 Semmes-Weinstein monofilament fiber), \n",
        "the presence of hyperkeratosis (callus), the presence of an ulcer, the presence of cellulitis, and the first dates that these occurred. 'M' is male, \n",
        "'F' is female, 'Y' is yes, 'N' is no. Within the 'Smoking' column 'N' is never smoked, 'F' is former smoker, 'C' is current smoker, \n",
        "and 'E' means no data was available.\n",
        "\n",
        "The purpose of this study is to demonstrate how keras can be utilized as part of an supervised learning model for an office setting.\n",
        "There was no retrievable data on previous history of ulceration or cellulitis.\n",
        "Instead of NIDDM and IDDM columns there could have been a column for one or the other with a 1 representing the presence of that type and a 0 representing the absence. This would be possible since only diabetics were included in this study. Fitting the model on data that contains that information regarding\n",
        "first ulceration date or first cellulitis date would have produced more accurate results. In addition, only approximately 750 records of diabetic patients were available.\n",
        "\n",
        "This file demonstrates how Keras can be utilized in an a clinical setting. A larger data set would increase the accuracy of the model. In that case, a larger number of hidden layers could be utilized. Please refer to the file where various classifiers were utilized and demonstrated better results due to the small size of the data set. The results could be different with a much larger data set. This larger data set could be obtained from a larger office or from an amalgamation of offices. In addition, the EHR could be specifically designed to capture the information which will be utilized in creating the data set.  The target is the 'Ulcer' column with the goal of the model being the identification of those diabetic patients likely to develop ulcerations.These patients would then receive supplemental instructions and observation."
      ]
    },
    {
      "cell_type": "code",
      "metadata": {
        "id": "PKmf9pxCZ6D0",
        "colab_type": "code",
        "outputId": "db1379f2-545e-47ce-b29e-1084e291faf8",
        "colab": {
          "base_uri": "https://localhost:8080/",
          "height": 497
        }
      },
      "source": [
        "import pandas as pd\n",
        "import numpy as np\n",
        "import datetime as dt\n",
        "from datetime import timedelta\n",
        "import matplotlib.pyplot as plt\n",
        "import seaborn as sns\n",
        "\n",
        "# The is the file opened as a DataFrame, the first 5 rows are observed, and the data type of each column is determined.\n",
        "df = pd.read_csv(r'https://raw.githubusercontent.com/DavidNNussbaum/office-diabetics/master/OfficeDiabetics.csv')\n",
        "print(df.head())  \n",
        "print(df.dtypes)"
      ],
      "execution_count": 0,
      "outputs": [
        {
          "output_type": "stream",
          "text": [
            "/usr/local/lib/python3.6/dist-packages/statsmodels/tools/_testing.py:19: FutureWarning: pandas.util.testing is deprecated. Use the functions in the public API at pandas.testing instead.\n",
            "  import pandas.util.testing as tm\n"
          ],
          "name": "stderr"
        },
        {
          "output_type": "stream",
          "text": [
            "    BMI         DOB Sex  ... Unnamed: 13 Unnamed: 14 Unnamed: 15\n",
            "0  28.2  10/11/1938   F  ...         NaN         NaN         NaN\n",
            "1         6/14/1957   F  ...         NaN         NaN         NaN\n",
            "2  40.7   4/23/1966   M  ...         NaN         NaN         NaN\n",
            "3  38.4   3/11/1967   F  ...         NaN         NaN         NaN\n",
            "4  29.8  10/14/1939   M  ...         NaN         NaN         NaN\n",
            "\n",
            "[5 rows x 16 columns]\n",
            "BMI                 object\n",
            "DOB                 object\n",
            "Sex                 object\n",
            "NIDDM               object\n",
            "IDDM                object\n",
            "PVD                 object\n",
            "Neuro               object\n",
            "Hyper               object\n",
            "Ulcer               object\n",
            "Cellulitis          object\n",
            "Ulcer Date          object\n",
            "Smoking             object\n",
            "Cellulitis Date     object\n",
            "Unnamed: 13        float64\n",
            "Unnamed: 14        float64\n",
            "Unnamed: 15         object\n",
            "dtype: object\n"
          ],
          "name": "stdout"
        }
      ]
    },
    {
      "cell_type": "code",
      "metadata": {
        "colab_type": "code",
        "outputId": "2b6afa18-bf20-40e6-ab8e-2f82d886a102",
        "id": "PMFEUYoOMaMV",
        "colab": {
          "base_uri": "https://localhost:8080/",
          "height": 106
        }
      },
      "source": [
        "# Any entries in the 'Ulcer' column that are not blank or 'Y' are identified and the row(s) found. \n",
        "print(df['Ulcer'].unique())\n",
        "print(df[df['Ulcer'] == 'I'])"
      ],
      "execution_count": 0,
      "outputs": [
        {
          "output_type": "stream",
          "text": [
            "[nan 'Y' ' ' ' Y' 'I']\n",
            "      BMI         DOB Sex  ... Unnamed: 13 Unnamed: 14 Unnamed: 15\n",
            "555  26.9  11/10/1941   M  ...         NaN         NaN         NaN\n",
            "\n",
            "[1 rows x 16 columns]\n"
          ],
          "name": "stdout"
        }
      ]
    },
    {
      "cell_type": "code",
      "metadata": {
        "id": "OY3vxnMnfhyx",
        "colab_type": "code",
        "outputId": "6400e54a-dd26-4177-98a6-e882ea690494",
        "colab": {
          "base_uri": "https://localhost:8080/",
          "height": 159
        }
      },
      "source": [
        "# Eliminate 'Unnamed' columns.\n",
        "df = df.loc[:, ~df.columns.str.contains('^Unnamed')]\n",
        "# Eliminate any white spaces in column names\n",
        "for column_name in df.columns:\n",
        "    try:\n",
        "        df[column_name] = df[column_name].str.strip()\n",
        "    except AttributeError:  #This means that this error won't stop it\n",
        "        pass\n",
        "print(df.head())"
      ],
      "execution_count": 0,
      "outputs": [
        {
          "output_type": "stream",
          "text": [
            "    BMI         DOB Sex NIDDM  ... Cellulitis Ulcer Date Smoking Cellulitis Date\n",
            "0  28.2  10/11/1938   F     Y  ...        NaN        NaN       F             NaN\n",
            "1         6/14/1957   F   NaN  ...        NaN        NaN       N             NaN\n",
            "2  40.7   4/23/1966   M     Y  ...        NaN        NaN       C             NaN\n",
            "3  38.4   3/11/1967   F   NaN  ...          Y        NaN       N       5/20/2019\n",
            "4  29.8  10/14/1939   M     Y  ...        NaN        NaN       C             NaN\n",
            "\n",
            "[5 rows x 13 columns]\n"
          ],
          "name": "stdout"
        }
      ]
    },
    {
      "cell_type": "code",
      "metadata": {
        "id": "YP13IUp0iQ0g",
        "colab_type": "code",
        "outputId": "ddef9b67-044e-4ea4-b7fe-76eceb94f869",
        "colab": {
          "base_uri": "https://localhost:8080/",
          "height": 230
        }
      },
      "source": [
        "# Fill in blanks in the 'Ulcer Date' and the 'Cellulitis Date' columns with one of the last data retrieval dates.\n",
        "df['Ulcer Date'] = df['Ulcer Date'].replace(np.NaN, '03/31/2020')\n",
        "df['Cellulitis Date'] = df['Cellulitis Date'].replace(np.NaN, '03/31/2020')\n",
        "print(df['Ulcer Date'].head())\n",
        "print(df['Cellulitis Date'].head())"
      ],
      "execution_count": 0,
      "outputs": [
        {
          "output_type": "stream",
          "text": [
            "0    03/31/2020\n",
            "1    03/31/2020\n",
            "2    03/31/2020\n",
            "3    03/31/2020\n",
            "4    03/31/2020\n",
            "Name: Ulcer Date, dtype: object\n",
            "0    03/31/2020\n",
            "1    03/31/2020\n",
            "2    03/31/2020\n",
            "3     5/20/2019\n",
            "4    03/31/2020\n",
            "Name: Cellulitis Date, dtype: object\n"
          ],
          "name": "stdout"
        }
      ]
    },
    {
      "cell_type": "code",
      "metadata": {
        "id": "ZS1C734utvpz",
        "colab_type": "code",
        "outputId": "4da06c15-33b0-4e36-f9ae-8f295ff6483d",
        "colab": {
          "base_uri": "https://localhost:8080/",
          "height": 35
        }
      },
      "source": [
        "# Determine current Data Frame shape.\n",
        "print(df.shape)"
      ],
      "execution_count": 0,
      "outputs": [
        {
          "output_type": "stream",
          "text": [
            "(761, 13)\n"
          ],
          "name": "stdout"
        }
      ]
    },
    {
      "cell_type": "code",
      "metadata": {
        "id": "wN5JL8iJkz_5",
        "colab_type": "code",
        "outputId": "4f06b012-1e39-49eb-b2fa-d48cfd9c32bc",
        "colab": {
          "base_uri": "https://localhost:8080/",
          "height": 212
        }
      },
      "source": [
        "# Convert 'DOB', \"Ulcer Date', and 'Cellulitis Date' columns to datetime64 after ensuring that they all have hyphens instead of lines.\n",
        "df[['DOB', 'Ulcer Date', 'Cellulitis Date']] = \\\n",
        "    df[['DOB', 'Ulcer Date', 'Cellulitis Date']].replace('/', '-', regex=True)  \n",
        "df[['DOB', 'Ulcer Date', 'Cellulitis Date']] = \\\n",
        "    pd.to_datetime(df[['DOB', 'Ulcer Date', 'Cellulitis Date']].stack(), format=\"%m-%d-%Y\", errors='coerce').unstack()\n",
        "# Ensure that the three columns are of type datetime64.\n",
        "print(df[['DOB', 'Ulcer Date', 'Cellulitis Date']].dtypes)\n",
        "# Determine which of the 'DOB' column entries are not datetime64.\n",
        "print(df[df['DOB'].isnull()])"
      ],
      "execution_count": 0,
      "outputs": [
        {
          "output_type": "stream",
          "text": [
            "DOB                datetime64[ns]\n",
            "Ulcer Date         datetime64[ns]\n",
            "Cellulitis Date    datetime64[ns]\n",
            "dtype: object\n",
            "      BMI DOB Sex NIDDM  ... Cellulitis Ulcer Date Smoking Cellulitis Date\n",
            "397   NaN NaT   F     Y  ...        NaN 2020-03-31       C      2020-03-31\n",
            "400  27.5 NaT   F   NaN  ...        NaN 2020-03-31       F      2020-03-31\n",
            "529  27.3 NaT   F     Y  ...        NaN 2020-03-31       N      2020-03-31\n",
            "541   NaN NaT   F     Y  ...        NaN 2020-03-31       C      2020-03-31\n",
            "\n",
            "[4 rows x 13 columns]\n"
          ],
          "name": "stdout"
        }
      ]
    },
    {
      "cell_type": "code",
      "metadata": {
        "id": "5wIohe_xqvNb",
        "colab_type": "code",
        "outputId": "beff8780-bae5-4902-dbfb-76e4ae6689b7",
        "colab": {
          "base_uri": "https://localhost:8080/",
          "height": 35
        }
      },
      "source": [
        "# Eliminate rows of DOB with NaT.\n",
        "df = df.dropna(subset=['DOB'])\n",
        "print(df.shape)"
      ],
      "execution_count": 0,
      "outputs": [
        {
          "output_type": "stream",
          "text": [
            "(757, 13)\n"
          ],
          "name": "stdout"
        }
      ]
    },
    {
      "cell_type": "code",
      "metadata": {
        "id": "a8ZfUHr0lyLJ",
        "colab_type": "code",
        "outputId": "7e1fb811-ade5-4106-e15e-0c6face8dfd2",
        "colab": {
          "base_uri": "https://localhost:8080/",
          "height": 408
        }
      },
      "source": [
        "# Create new columns for age in years age achieved without an ulcer or cellulitis recorded. \n",
        "df['CellulitisAge'] = ((df['Cellulitis Date'] - (df['DOB'])) / timedelta(days=365))\n",
        "df['UlcerAge'] = ((df['Ulcer Date'] - (df['DOB'])) / timedelta(days=365))\n",
        "# Determine if there are any rows with Nan and eliminate them.\n",
        "print(df[df['CellulitisAge'].isnull()])\n",
        "print(df[df['UlcerAge'].isnull()])\n",
        "# Eliminate rows in 'UlcerAge' which do not have values.\n",
        "df = df.dropna(subset=['UlcerAge'])\n",
        "# Confirm shape of df.\n",
        "print(df.shape)\n",
        "# Change the data type of the new columns to int64. \n",
        "df['CellulitisAge'] = df['CellulitisAge'].astype('object').astype(np.int64)\n",
        "df['UlcerAge'] = df['UlcerAge'].astype('object').astype('int64')\n",
        "# The DOB, Cellulitis Date, and Ulcer Date columns are then dropped.\n",
        "df = df.drop(['DOB', 'Cellulitis Date', 'Ulcer Date'], axis=1)\n",
        "print(df.head(10))"
      ],
      "execution_count": 0,
      "outputs": [
        {
          "output_type": "stream",
          "text": [
            "Empty DataFrame\n",
            "Columns: [BMI, DOB, Sex, NIDDM, IDDM, PVD, Neuro, Hyper, Ulcer, Cellulitis, Ulcer Date, Smoking, Cellulitis Date, CellulitisAge, UlcerAge]\n",
            "Index: []\n",
            "      BMI        DOB Sex NIDDM  ... Smoking Cellulitis Date CellulitisAge UlcerAge\n",
            "246  29.2 1938-01-11   F     Y  ...       N      2020-03-31     82.273973      NaN\n",
            "476  37.6 1949-07-06   M   NaN  ...       F      2020-03-31     70.783562      NaN\n",
            "\n",
            "[2 rows x 15 columns]\n",
            "(755, 15)\n",
            "    BMI Sex NIDDM IDDM  PVD  ... Ulcer Cellulitis Smoking CellulitisAge UlcerAge\n",
            "0  28.2   F     Y  NaN    Y  ...   NaN        NaN       F            81       81\n",
            "1         F   NaN    Y  NaN  ...   NaN        NaN       N            62       62\n",
            "2  40.7   M     Y  NaN  NaN  ...   NaN        NaN       C            53       53\n",
            "3  38.4   F   NaN    Y  NaN  ...   NaN          Y       N            52       53\n",
            "4  29.8   M     Y  NaN    Y  ...   NaN        NaN       C            80       80\n",
            "5  32.9   M   NaN    Y    Y  ...     Y                  C            74       74\n",
            "6   NaN   M     Y  NaN  NaN  ...   NaN          Y       F            41       41\n",
            "7  39.9   F     Y  NaN    Y  ...   NaN        NaN       N            71       71\n",
            "8   NaN   M   NaN    Y  NaN  ...   NaN          Y       F            38       40\n",
            "9  28.2   M     Y  NaN  NaN  ...   NaN        NaN       N            71       71\n",
            "\n",
            "[10 rows x 12 columns]\n"
          ],
          "name": "stdout"
        }
      ]
    },
    {
      "cell_type": "code",
      "metadata": {
        "id": "onuC_hj9gnnw",
        "colab_type": "code",
        "outputId": "9206a916-292f-4baa-fa78-913e419cbaa1",
        "colab": {
          "base_uri": "https://localhost:8080/",
          "height": 35
        }
      },
      "source": [
        "# Change the 'BMI' column from object to float64.\n",
        "df['BMI'] = pd.to_numeric(df['BMI'], errors='coerce')\n",
        "print(df['BMI'].dtypes)"
      ],
      "execution_count": 0,
      "outputs": [
        {
          "output_type": "stream",
          "text": [
            "float64\n"
          ],
          "name": "stdout"
        }
      ]
    },
    {
      "cell_type": "code",
      "metadata": {
        "id": "0KFzb3YfjJIO",
        "colab_type": "code",
        "outputId": "2fa22835-1682-4ed8-b4bd-7fa195afc254",
        "colab": {
          "base_uri": "https://localhost:8080/",
          "height": 159
        }
      },
      "source": [
        "# Replace the areas where there are no entries with 0 and a \"Y\" with a 1 in 6 of the columns.  \n",
        "# Note that there was one entry in the 'Ulcer' column which was 'I' but should have been 'Y'. This is being corrected. \n",
        "# Those with no entry (either NaN or nothing) in the 'Smoking' column were replaced with 'E'. \n",
        "# df['Column Name'].unique() was used later on when it was indicated that there were non-integers. These are being corrected here.\n",
        "# In the 'Sex' column replace 'F' with 0 and 'M' with 1.\n",
        "df['NIDDM'] = df['NIDDM'].replace(np.NaN, 0, regex=True) \n",
        "df['NIDDM'] = df['NIDDM'].replace('Y', 1, regex=True) \n",
        "df['IDDM'] = df['IDDM'].replace(np.NaN, 0, regex=True) \n",
        "df['IDDM'] = df['IDDM'].replace('nan', 0, regex=True) \n",
        "df['IDDM'] = df['IDDM'].replace('Y', 1, regex=True) \n",
        "df['PVD'] = df['PVD'].replace(np.NaN, 0, regex=True) \n",
        "df['PVD'] = df['PVD'].replace('Y', 1, regex=True) \n",
        "df['PVD'] = df['PVD'].replace('nan', 0, regex=True) \n",
        "df['Neuro'] = df['Neuro'].replace(np.NaN, 0, regex=True)\n",
        "df['Neuro'] = df['Neuro'].replace('Y', 1, regex=True)  \n",
        "df['Neuro'] = df['Neuro'].replace('nan', 0, regex=True) \n",
        "df['Hyper'] = df['Hyper'].replace(np.NaN, 0, regex=True)\n",
        "df['Hyper'] = df['Hyper'].replace('Y', 1, regex=True) \n",
        "df['Hyper'] = df['Hyper'].replace('nan', 0, regex=True) \n",
        "df['Ulcer'] = df['Ulcer'].replace(np.NaN, 0, regex=True)\n",
        "df['Ulcer'] = df['Ulcer'].replace('I', 1, regex=True)\n",
        "df['Ulcer'] = df['Ulcer'].replace('', 0, regex=True)\n",
        "df['Ulcer'] = df['Ulcer'].replace('Y', 1, regex=True)\n",
        "df['Sex'] = df['Sex'].replace('F', 0, regex=True)\n",
        "df['Sex'] = df['Sex'].replace('M', 1, regex=True)\n",
        "df['Cellulitis'] = df['Cellulitis'].replace(np.NaN, 0, regex=True) \n",
        "df['Cellulitis'] = df['Cellulitis'].replace('Y', 1, regex=True) \n",
        "df['Cellulitis'] = df['Cellulitis'].replace('nan', 0, regex=True) \n",
        "df['Smoking'] = df['Smoking'].replace(np.NaN, 'E', regex=True) \n",
        "df['Smoking'] = df['Smoking'].replace('', 'E', regex=True)\n",
        "print(df.head())"
      ],
      "execution_count": 0,
      "outputs": [
        {
          "output_type": "stream",
          "text": [
            "    BMI  Sex  NIDDM IDDM PVD  ... Ulcer Cellulitis  Smoking CellulitisAge UlcerAge\n",
            "0  28.2    0      1    0   1  ...     0          0        F            81       81\n",
            "1   NaN    0      0    1   0  ...     0          0        N            62       62\n",
            "2  40.7    1      1    0   0  ...     0          0        C            53       53\n",
            "3  38.4    0      0    1   0  ...     0          1        N            52       53\n",
            "4  29.8    1      1    0   1  ...     0          0        C            80       80\n",
            "\n",
            "[5 rows x 12 columns]\n"
          ],
          "name": "stdout"
        }
      ]
    },
    {
      "cell_type": "code",
      "metadata": {
        "id": "O9y0Kusu-Zwi",
        "colab_type": "code",
        "outputId": "53254422-524e-439a-df78-96998623a5ce",
        "colab": {
          "base_uri": "https://localhost:8080/",
          "height": 248
        }
      },
      "source": [
        "print(df.dtypes)"
      ],
      "execution_count": 0,
      "outputs": [
        {
          "output_type": "stream",
          "text": [
            "BMI              float64\n",
            "Sex                int64\n",
            "NIDDM              int64\n",
            "IDDM              object\n",
            "PVD               object\n",
            "Neuro             object\n",
            "Hyper             object\n",
            "Ulcer              int64\n",
            "Cellulitis        object\n",
            "Smoking           object\n",
            "CellulitisAge      int64\n",
            "UlcerAge           int64\n",
            "dtype: object\n"
          ],
          "name": "stdout"
        }
      ]
    },
    {
      "cell_type": "code",
      "metadata": {
        "id": "ZpWqV2k-BF5W",
        "colab_type": "code",
        "outputId": "693186ad-0e57-4e93-8cb1-fa98b67502ce",
        "colab": {
          "base_uri": "https://localhost:8080/",
          "height": 35
        }
      },
      "source": [
        "# Find any NaN if there are any in the 'Cellulitis' column.\n",
        "print(df[df['Cellulitis'].isna()]['Cellulitis']) # The output indicates that there are none."
      ],
      "execution_count": 0,
      "outputs": [
        {
          "output_type": "stream",
          "text": [
            "Series([], Name: Cellulitis, dtype: object)\n"
          ],
          "name": "stdout"
        }
      ]
    },
    {
      "cell_type": "code",
      "metadata": {
        "id": "Tg2mcO42VGAp",
        "colab_type": "code",
        "outputId": "42349e36-24e3-424b-d3a3-6879c978d899",
        "colab": {
          "base_uri": "https://localhost:8080/",
          "height": 47
        }
      },
      "source": [
        "# Find any empty spaces if there are any in the 'Smoking' column.\n",
        "df['Smoking'].unique()\n",
        "df[df['Smoking'] == ''] # The output demonstrates that there are none."
      ],
      "execution_count": 0,
      "outputs": [
        {
          "output_type": "execute_result",
          "data": {
            "text/html": [
              "<div>\n",
              "<style scoped>\n",
              "    .dataframe tbody tr th:only-of-type {\n",
              "        vertical-align: middle;\n",
              "    }\n",
              "\n",
              "    .dataframe tbody tr th {\n",
              "        vertical-align: top;\n",
              "    }\n",
              "\n",
              "    .dataframe thead th {\n",
              "        text-align: right;\n",
              "    }\n",
              "</style>\n",
              "<table border=\"1\" class=\"dataframe\">\n",
              "  <thead>\n",
              "    <tr style=\"text-align: right;\">\n",
              "      <th></th>\n",
              "      <th>BMI</th>\n",
              "      <th>Sex</th>\n",
              "      <th>NIDDM</th>\n",
              "      <th>IDDM</th>\n",
              "      <th>PVD</th>\n",
              "      <th>Neuro</th>\n",
              "      <th>Hyper</th>\n",
              "      <th>Ulcer</th>\n",
              "      <th>Cellulitis</th>\n",
              "      <th>Smoking</th>\n",
              "      <th>CellulitisAge</th>\n",
              "      <th>UlcerAge</th>\n",
              "    </tr>\n",
              "  </thead>\n",
              "  <tbody>\n",
              "  </tbody>\n",
              "</table>\n",
              "</div>"
            ],
            "text/plain": [
              "Empty DataFrame\n",
              "Columns: [BMI, Sex, NIDDM, IDDM, PVD, Neuro, Hyper, Ulcer, Cellulitis, Smoking, CellulitisAge, UlcerAge]\n",
              "Index: []"
            ]
          },
          "metadata": {
            "tags": []
          },
          "execution_count": 13
        }
      ]
    },
    {
      "cell_type": "code",
      "metadata": {
        "id": "FZ75lG-Fn_je",
        "colab_type": "code",
        "outputId": "0c7eac01-c7ad-4028-9965-9e8dacb43140",
        "colab": {
          "base_uri": "https://localhost:8080/",
          "height": 159
        }
      },
      "source": [
        "from sklearn.preprocessing import LabelEncoder\n",
        "from sklearn.preprocessing import OneHotEncoder\n",
        "\n",
        "# The 'Smoking' column is being changed from string to numerical.\n",
        "le = LabelEncoder() \n",
        "df['Smoking']= le.fit_transform(df['Smoking'])\n",
        "print(df.head())"
      ],
      "execution_count": 0,
      "outputs": [
        {
          "output_type": "stream",
          "text": [
            "    BMI  Sex  NIDDM IDDM  ... Cellulitis Smoking CellulitisAge  UlcerAge\n",
            "0  28.2    0      1    0  ...          0       2            81        81\n",
            "1   NaN    0      0    1  ...          0       3            62        62\n",
            "2  40.7    1      1    0  ...          0       0            53        53\n",
            "3  38.4    0      0    1  ...          1       3            52        53\n",
            "4  29.8    1      1    0  ...          0       0            80        80\n",
            "\n",
            "[5 rows x 12 columns]\n"
          ],
          "name": "stdout"
        }
      ]
    },
    {
      "cell_type": "code",
      "metadata": {
        "id": "1k0oZDZmmIGf",
        "colab_type": "code",
        "outputId": "f13db220-4bf9-4e4e-a21f-bdb2714a86bd",
        "colab": {
          "base_uri": "https://localhost:8080/",
          "height": 159
        }
      },
      "source": [
        "# The 'Smoking' column is more than binary so one hot encoding must be done.\n",
        "du = pd.get_dummies(df['Smoking'], columns=['Smoking'], prefix='Smoke')\n",
        "df = pd.concat([df, du], axis=1)\n",
        "df = df.drop(['Smoking'], axis=1)\n",
        "print(df.head())\n",
        " "
      ],
      "execution_count": 0,
      "outputs": [
        {
          "output_type": "stream",
          "text": [
            "    BMI  Sex  NIDDM IDDM PVD  ... UlcerAge Smoke_0  Smoke_1 Smoke_2  Smoke_3\n",
            "0  28.2    0      1    0   1  ...       81       0        0       1        0\n",
            "1   NaN    0      0    1   0  ...       62       0        0       0        1\n",
            "2  40.7    1      1    0   0  ...       53       1        0       0        0\n",
            "3  38.4    0      0    1   0  ...       53       0        0       0        1\n",
            "4  29.8    1      1    0   1  ...       80       1        0       0        0\n",
            "\n",
            "[5 rows x 15 columns]\n"
          ],
          "name": "stdout"
        }
      ]
    },
    {
      "cell_type": "code",
      "metadata": {
        "id": "4A-VdcSkbiDR",
        "colab_type": "code",
        "outputId": "134701cc-8d31-47c6-a2da-56853f273382",
        "colab": {
          "base_uri": "https://localhost:8080/",
          "height": 70
        }
      },
      "source": [
        "# The 'Ulcer' column contains integers and strings that must be changed to all integers.\n",
        "print(df['Ulcer'].dtypes)\n",
        "df['Ulcer'] = df['Ulcer'].astype(int)\n",
        "print(df['Ulcer'].dtypes)\n",
        "print(df['Ulcer'].unique())"
      ],
      "execution_count": 0,
      "outputs": [
        {
          "output_type": "stream",
          "text": [
            "int64\n",
            "int64\n",
            "[0 1]\n"
          ],
          "name": "stdout"
        }
      ]
    },
    {
      "cell_type": "code",
      "metadata": {
        "id": "O1izO4kvm7GP",
        "colab_type": "code",
        "outputId": "91bf7cf9-58a0-4dd4-ecd9-9e92c518029a",
        "colab": {
          "base_uri": "https://localhost:8080/",
          "height": 124
        }
      },
      "source": [
        "# The missing BMI values for those with ulcers will be filled in with the mean of those having ulcers.\n",
        "# The missing BMI values for those without ulcers will be filled in with the mean of those not having ulcers.\n",
        "mean0, mean1 = df.groupby('Ulcer').mean()['BMI'].values\n",
        "for i, row in df.iterrows():\n",
        "  if row['Ulcer'] == 0 and np.isnan(row['BMI']):\n",
        "    df.loc[i, 'BMI'] = mean0\n",
        "  elif row['Ulcer'] == 1 and np.isnan(row['BMI']):\n",
        "    df.loc[i, 'BMI'] = mean1\n",
        "df['BMI'].head()"
      ],
      "execution_count": 0,
      "outputs": [
        {
          "output_type": "execute_result",
          "data": {
            "text/plain": [
              "0    28.200000\n",
              "1    33.973364\n",
              "2    40.700000\n",
              "3    38.400000\n",
              "4    29.800000\n",
              "Name: BMI, dtype: float64"
            ]
          },
          "metadata": {
            "tags": []
          },
          "execution_count": 17
        }
      ]
    },
    {
      "cell_type": "code",
      "metadata": {
        "id": "takFV4M5N7h3",
        "colab_type": "code",
        "outputId": "3cc7d797-62de-4f43-ed1c-4b8fb62951a8",
        "colab": {
          "base_uri": "https://localhost:8080/",
          "height": 83
        }
      },
      "source": [
        "# Look for empty spaces if any exist in the 'Ulcer' column.\n",
        "df['Ulcer'].unique()\n",
        "df[df['Ulcer'] == ''] # The output demonstrates that there are none."
      ],
      "execution_count": 0,
      "outputs": [
        {
          "output_type": "stream",
          "text": [
            "/usr/local/lib/python3.6/dist-packages/pandas/core/ops/array_ops.py:253: FutureWarning: elementwise comparison failed; returning scalar instead, but in the future will perform elementwise comparison\n",
            "  res_values = method(rvalues)\n"
          ],
          "name": "stderr"
        },
        {
          "output_type": "execute_result",
          "data": {
            "text/html": [
              "<div>\n",
              "<style scoped>\n",
              "    .dataframe tbody tr th:only-of-type {\n",
              "        vertical-align: middle;\n",
              "    }\n",
              "\n",
              "    .dataframe tbody tr th {\n",
              "        vertical-align: top;\n",
              "    }\n",
              "\n",
              "    .dataframe thead th {\n",
              "        text-align: right;\n",
              "    }\n",
              "</style>\n",
              "<table border=\"1\" class=\"dataframe\">\n",
              "  <thead>\n",
              "    <tr style=\"text-align: right;\">\n",
              "      <th></th>\n",
              "      <th>BMI</th>\n",
              "      <th>Sex</th>\n",
              "      <th>NIDDM</th>\n",
              "      <th>IDDM</th>\n",
              "      <th>PVD</th>\n",
              "      <th>Neuro</th>\n",
              "      <th>Hyper</th>\n",
              "      <th>Ulcer</th>\n",
              "      <th>Cellulitis</th>\n",
              "      <th>CellulitisAge</th>\n",
              "      <th>UlcerAge</th>\n",
              "      <th>Smoke_0</th>\n",
              "      <th>Smoke_1</th>\n",
              "      <th>Smoke_2</th>\n",
              "      <th>Smoke_3</th>\n",
              "    </tr>\n",
              "  </thead>\n",
              "  <tbody>\n",
              "  </tbody>\n",
              "</table>\n",
              "</div>"
            ],
            "text/plain": [
              "Empty DataFrame\n",
              "Columns: [BMI, Sex, NIDDM, IDDM, PVD, Neuro, Hyper, Ulcer, Cellulitis, CellulitisAge, UlcerAge, Smoke_0, Smoke_1, Smoke_2, Smoke_3]\n",
              "Index: []"
            ]
          },
          "metadata": {
            "tags": []
          },
          "execution_count": 18
        }
      ]
    },
    {
      "cell_type": "code",
      "metadata": {
        "id": "4srBipKC9Kcr",
        "colab_type": "code",
        "outputId": "f29c67f5-c0f6-4312-cdd8-f6662d92b5b6",
        "colab": {
          "base_uri": "https://localhost:8080/",
          "height": 294
        }
      },
      "source": [
        "# Create a histogram of the 'BMI', 'UlcerAge', and CellulitisAge columns.\n",
        "df[['BMI', 'UlcerAge', 'CellulitisAge']].hist()\n",
        "plt.suptitle('Histogram of three columns.')\n",
        "plt.show()"
      ],
      "execution_count": 0,
      "outputs": [
        {
          "output_type": "display_data",
          "data": {
            "image/png": "[encoded data removed]",
            "text/plain": [
              "<Figure size 432x288 with 4 Axes>"
            ]
          },
          "metadata": {
            "tags": [],
            "needs_background": "light"
          }
        }
      ]
    },
    {
      "cell_type": "markdown",
      "metadata": {
        "id": "YvnKCJXCyblr",
        "colab_type": "text"
      },
      "source": [
        "It is interesting to note that the CellulitisAge and UlcerAge features both peak at approximately age 60.\n",
        "The BMI peaks at approximately 30. "
      ]
    },
    {
      "cell_type": "code",
      "metadata": {
        "id": "5qv9nH1fs6Vm",
        "colab_type": "code",
        "outputId": "8fa5265d-76c1-4010-fb55-ea8e48d587fb",
        "colab": {
          "base_uri": "https://localhost:8080/",
          "height": 585
        }
      },
      "source": [
        "# Create a pairplot of the 'BMI', 'UlcerAge', and 'CellulitisAge' columns.\n",
        "plt.figure(figsize=(12, 6))\n",
        "sns.pairplot(df[['BMI', 'UlcerAge', 'CellulitisAge']])\n",
        "plt.suptitle('Pairplot of Three Columns')\n",
        "plt.show()"
      ],
      "execution_count": 0,
      "outputs": [
        {
          "output_type": "display_data",
          "data": {
            "text/plain": [
              "<Figure size 864x432 with 0 Axes>"
            ]
          },
          "metadata": {
            "tags": []
          }
        },
        {
          "output_type": "display_data",
          "data": {
            "image/png": "[encoded data removed]",
            "text/plain": [
              "<Figure size 540x540 with 12 Axes>"
            ]
          },
          "metadata": {
            "tags": [],
            "needs_background": "light"
          }
        }
      ]
    },
    {
      "cell_type": "markdown",
      "metadata": {
        "id": "4jsYHng0ym5v",
        "colab_type": "text"
      },
      "source": [
        "The pairplot confirms the linear relationship between UlcerAge and CellulitisAge and the non-liear relationship\n",
        "between those two and the BMI."
      ]
    },
    {
      "cell_type": "code",
      "metadata": {
        "id": "zEjmdapv742T",
        "colab_type": "code",
        "outputId": "586f9eda-b61f-412a-bcd8-f0bf65477774",
        "colab": {
          "base_uri": "https://localhost:8080/",
          "height": 442
        }
      },
      "source": [
        "# Create a boxplot of the columns. In the next cell, the boxplot of 'UlcerAge' will be examined.\n",
        "plt.figure(figsize=(12, 6))\n",
        "df.boxplot()\n",
        "plt.title('Comparison of Column Boxplots')\n",
        "plt.xticks(rotation=90)\n",
        "plt.show()"
      ],
      "execution_count": 0,
      "outputs": [
        {
          "output_type": "display_data",
          "data": {
            "image/png": "[encoded data removed]",
            "text/plain": [
              "<Figure size 864x432 with 1 Axes>"
            ]
          },
          "metadata": {
            "tags": [],
            "needs_background": "light"
          }
        }
      ]
    },
    {
      "cell_type": "code",
      "metadata": {
        "id": "ml-wvKk39wiq",
        "colab_type": "code",
        "outputId": "7f865ed9-467d-4da6-8ec2-4d0a70872596",
        "colab": {
          "base_uri": "https://localhost:8080/",
          "height": 531
        }
      },
      "source": [
        "# Create two boxplots, the first of the 'UlcerAge' column and the second of the same column with the extremes trimmed. \n",
        "df[['UlcerAge']].boxplot()\n",
        "plt.show()\n",
        "std = df['UlcerAge'].std()\n",
        "mean = df['UlcerAge'].mean()\n",
        "cut_off = df['UlcerAge'].quantile(0.75) - df['UlcerAge'].quantile(0.25) # Can also do std * 3\n",
        "lower, upper = mean - cut_off, mean + cut_off\n",
        "trimmed_df = df[(df['UlcerAge'] < upper)\n",
        "                           & (df['UlcerAge'] > lower)]\n",
        "trimmed_df[['UlcerAge']].boxplot()\n",
        "plt.show()\n",
        "print(trimmed_df.shape)"
      ],
      "execution_count": 0,
      "outputs": [
        {
          "output_type": "display_data",
          "data": {
            "image/png": "[encoded data removed]",
            "text/plain": [
              "<Figure size 432x288 with 1 Axes>"
            ]
          },
          "metadata": {
            "tags": [],
            "needs_background": "light"
          }
        },
        {
          "output_type": "display_data",
          "data": {
            "image/png": "[encoded data removed]",
            "text/plain": [
              "<Figure size 432x288 with 1 Axes>"
            ]
          },
          "metadata": {
            "tags": [],
            "needs_background": "light"
          }
        },
        {
          "output_type": "stream",
          "text": [
            "(602, 15)\n"
          ],
          "name": "stdout"
        }
      ]
    },
    {
      "cell_type": "markdown",
      "metadata": {
        "id": "EUrgmETVzReV",
        "colab_type": "text"
      },
      "source": [
        "The same could be done with 'BMI' and 'CellulitisAge', however if all entries with extreme values in any of these three columns were removed \n",
        "there would be several hundred fewer entries. Removing the outliers would be more feasible with a much larger data set."
      ]
    },
    {
      "cell_type": "code",
      "metadata": {
        "id": "wh16zDhPBOE6",
        "colab_type": "code",
        "outputId": "f00bb4e9-d777-435b-a1e0-47b0ab9fda95",
        "colab": {
          "base_uri": "https://localhost:8080/",
          "height": 444
        }
      },
      "source": [
        "# The StandardScalar cell (below) showed an error message regarding a string being present so it is being located and changed to numeric. The change is then confirmed.\n",
        "print (df[df['IDDM'].apply(lambda x: isinstance(x, str))])\n",
        "df['IDDM'] = pd.to_numeric(df['IDDM'], errors='coerce')\n",
        "print (df[df['IDDM'].apply(lambda x: isinstance(x, str))])\n",
        "print (df[df['IDDM'].apply(lambda x: isinstance(x, object))])"
      ],
      "execution_count": 0,
      "outputs": [
        {
          "output_type": "stream",
          "text": [
            "           BMI  Sex  NIDDM IDDM  ... Smoke_0 Smoke_1 Smoke_2  Smoke_3\n",
            "292  33.973364    1      1       ...       0       0       0        1\n",
            "427  57.600000    1      1       ...       0       0       0        1\n",
            "526  41.600000    1      1       ...       0       0       1        0\n",
            "543  33.000000    1      1       ...       0       0       0        1\n",
            "\n",
            "[4 rows x 15 columns]\n",
            "Empty DataFrame\n",
            "Columns: [BMI, Sex, NIDDM, IDDM, PVD, Neuro, Hyper, Ulcer, Cellulitis, CellulitisAge, UlcerAge, Smoke_0, Smoke_1, Smoke_2, Smoke_3]\n",
            "Index: []\n",
            "           BMI  Sex  NIDDM  IDDM  ... Smoke_0 Smoke_1 Smoke_2  Smoke_3\n",
            "0    28.200000    0      1   0.0  ...       0       0       1        0\n",
            "1    33.973364    0      0   1.0  ...       0       0       0        1\n",
            "2    40.700000    1      1   0.0  ...       1       0       0        0\n",
            "3    38.400000    0      0   1.0  ...       0       0       0        1\n",
            "4    29.800000    1      1   0.0  ...       1       0       0        0\n",
            "..         ...  ...    ...   ...  ...     ...     ...     ...      ...\n",
            "756  25.900000    1      0   1.0  ...       0       0       0        1\n",
            "757  32.300000    0      1   0.0  ...       0       0       0        1\n",
            "758  33.973364    1      0   1.0  ...       0       0       0        1\n",
            "759  33.973364    1      0   1.0  ...       0       1       0        0\n",
            "760  42.100000    0      1   0.0  ...       0       0       0        1\n",
            "\n",
            "[755 rows x 15 columns]\n"
          ],
          "name": "stdout"
        }
      ]
    },
    {
      "cell_type": "code",
      "metadata": {
        "id": "19jJ8YyNECWo",
        "colab_type": "code",
        "outputId": "cf6f5bfe-585e-42df-a2d7-95291edb1599",
        "colab": {
          "base_uri": "https://localhost:8080/",
          "height": 195
        }
      },
      "source": [
        "# An error message in the StandardScacler cell (below) stated that there was a string. The error message in this box stated that there was an 'F' which could not be converted to numeric \n",
        "# so it is being replaced by the correct value (after checking the office records) which is 1. The change is then confirmed.\n",
        "print (df[df['PVD'].apply(lambda x: isinstance(x, str))])\n",
        "df['PVD'] = df['PVD'].replace('F', 1, regex=True) \n",
        "df['PVD'] = pd.to_numeric(df['PVD'], errors='coerce')\n",
        "print (df[df['PVD'].apply(lambda x: isinstance(x, str))])"
      ],
      "execution_count": 0,
      "outputs": [
        {
          "output_type": "stream",
          "text": [
            "           BMI  Sex  NIDDM  IDDM  ... Smoke_0 Smoke_1 Smoke_2  Smoke_3\n",
            "18   31.000000    1      0   1.0  ...       1       0       0        0\n",
            "122  39.600000    0      1   0.0  ...       0       0       0        1\n",
            "147  31.100000    0      0   1.0  ...       0       0       0        1\n",
            "215  33.973364    0      0   1.0  ...       0       0       1        0\n",
            "\n",
            "[4 rows x 15 columns]\n",
            "Empty DataFrame\n",
            "Columns: [BMI, Sex, NIDDM, IDDM, PVD, Neuro, Hyper, Ulcer, Cellulitis, CellulitisAge, UlcerAge, Smoke_0, Smoke_1, Smoke_2, Smoke_3]\n",
            "Index: []\n"
          ],
          "name": "stdout"
        }
      ]
    },
    {
      "cell_type": "code",
      "metadata": {
        "id": "fh4n2igsGcmY",
        "colab_type": "code",
        "outputId": "e095b4c3-fca1-4d2f-ccab-10e19d70ac9d",
        "colab": {
          "base_uri": "https://localhost:8080/",
          "height": 177
        }
      },
      "source": [
        "# The StandardScacler cell (below) showed an error message regarding a string being present so it is being located and changed to numeric. The change is then confirmed.\n",
        "print (df[df['Neuro'].apply(lambda x: isinstance(x, str))])\n",
        "df['Neuro'] = pd.to_numeric(df['Neuro'], errors='coerce')\n",
        "print (df[df['Neuro'].apply(lambda x: isinstance(x, str))])"
      ],
      "execution_count": 0,
      "outputs": [
        {
          "output_type": "stream",
          "text": [
            "      BMI  Sex  NIDDM  IDDM  PVD  ... UlcerAge Smoke_0  Smoke_1 Smoke_2  Smoke_3\n",
            "526  41.6    1      1   NaN  1.0  ...       70       0        0       1        0\n",
            "533  24.9    1      0   1.0  0.0  ...       54       0        0       0        1\n",
            "543  33.0    1      1   NaN  0.0  ...       50       0        0       0        1\n",
            "\n",
            "[3 rows x 15 columns]\n",
            "Empty DataFrame\n",
            "Columns: [BMI, Sex, NIDDM, IDDM, PVD, Neuro, Hyper, Ulcer, Cellulitis, CellulitisAge, UlcerAge, Smoke_0, Smoke_1, Smoke_2, Smoke_3]\n",
            "Index: []\n"
          ],
          "name": "stdout"
        }
      ]
    },
    {
      "cell_type": "code",
      "metadata": {
        "id": "Asro6Y2lHnnR",
        "colab_type": "code",
        "outputId": "1e8b41b4-ac1e-4b8a-af7c-cd32e5cdf010",
        "colab": {
          "base_uri": "https://localhost:8080/",
          "height": 284
        }
      },
      "source": [
        "\n",
        "# An error message in the StandardScacler cell (below) stated that there was a string. The error message in this box stated that there was an 'H' which could not be converted to numeric \n",
        "# in three rows so they are being replaced by the correct values (after checking the office records) which are 1, 0, and 1. The changes are then confirmed. \n",
        "print (df[df['Hyper'].apply(lambda x: isinstance(x, str))])\n",
        "df['Hyper'].loc[147, 274] = 1\n",
        "df['Hyper'].loc[217] = 0\n",
        "df['Hyper'] = pd.to_numeric(df['Hyper'], errors='coerce')\n",
        "print (df[df['Hyper'].apply(lambda x: isinstance(x, str))])   "
      ],
      "execution_count": 0,
      "outputs": [
        {
          "output_type": "stream",
          "text": [
            "           BMI  Sex  NIDDM  IDDM  ...  Smoke_0  Smoke_1 Smoke_2  Smoke_3\n",
            "147  31.100000    0      0   1.0  ...        0        0       0        1\n",
            "215  33.973364    0      0   1.0  ...        0        0       1        0\n",
            "217  35.000000    1      1   0.0  ...        0        0       0        1\n",
            "274  32.900000    1      1   0.0  ...        1        0       0        0\n",
            "\n",
            "[4 rows x 15 columns]\n",
            "Empty DataFrame\n",
            "Columns: [BMI, Sex, NIDDM, IDDM, PVD, Neuro, Hyper, Ulcer, Cellulitis, CellulitisAge, UlcerAge, Smoke_0, Smoke_1, Smoke_2, Smoke_3]\n",
            "Index: []\n"
          ],
          "name": "stdout"
        },
        {
          "output_type": "stream",
          "text": [
            "/usr/local/lib/python3.6/dist-packages/pandas/core/indexing.py:671: SettingWithCopyWarning: \n",
            "A value is trying to be set on a copy of a slice from a DataFrame\n",
            "\n",
            "See the caveats in the documentation: https://pandas.pydata.org/pandas-docs/stable/user_guide/indexing.html#returning-a-view-versus-a-copy\n",
            "  self._setitem_with_indexer(indexer, value)\n"
          ],
          "name": "stderr"
        }
      ]
    },
    {
      "cell_type": "code",
      "metadata": {
        "id": "WwtuVRcfMNFQ",
        "colab_type": "code",
        "outputId": "258cb255-fc74-41a8-fe95-9a0b85b93286",
        "colab": {
          "base_uri": "https://localhost:8080/",
          "height": 266
        }
      },
      "source": [
        "# The StandardScalar cell (below) showed an error message regarding a string being present so it is being located and changed to numeric. The change is then confirmed.\n",
        "print (df[df['Cellulitis'].apply(lambda x: isinstance(x, str))])\n",
        "df['Cellulitis'] = pd.to_numeric(df['Cellulitis'], errors='coerce')\n",
        "print (df[df['Cellulitis'].apply(lambda x: isinstance(x, str))])"
      ],
      "execution_count": 0,
      "outputs": [
        {
          "output_type": "stream",
          "text": [
            "           BMI  Sex  NIDDM  IDDM  ...  Smoke_0  Smoke_1  Smoke_2  Smoke_3\n",
            "5    32.900000    1      0   1.0  ...        1        0        0        0\n",
            "93   49.600000    0      1   0.0  ...        0        0        1        0\n",
            "110  45.200000    0      0   1.0  ...        0        0        1        0\n",
            "140  33.500000    1      0   1.0  ...        1        0        0        0\n",
            "292  33.973364    1      1   NaN  ...        0        0        0        1\n",
            "307  40.700000    0      1   0.0  ...        0        0        0        1\n",
            "481  36.400000    0      1   0.0  ...        0        0        1        0\n",
            "732  28.700000    0      1   0.0  ...        0        0        0        1\n",
            "\n",
            "[8 rows x 15 columns]\n",
            "Empty DataFrame\n",
            "Columns: [BMI, Sex, NIDDM, IDDM, PVD, Neuro, Hyper, Ulcer, Cellulitis, CellulitisAge, UlcerAge, Smoke_0, Smoke_1, Smoke_2, Smoke_3]\n",
            "Index: []\n"
          ],
          "name": "stdout"
        }
      ]
    },
    {
      "cell_type": "code",
      "metadata": {
        "id": "6hI8o75t5YeK",
        "colab_type": "code",
        "outputId": "e704bcbf-0ef3-426d-9b91-0e3726c0b048",
        "colab": {
          "base_uri": "https://localhost:8080/",
          "height": 106
        }
      },
      "source": [
        "# There was an error message regarding the presence of non-integers further on. If the data set had been larger those rows would just have been dropped.  \n",
        "# Since there are only 760 rows, and the correct information was obtainable, the non-integers were corrected. The first two codes (which are now commented out) \n",
        "# were used to determine the number of rows and the order of the columns. The third and fourth codes (which are commented out) were used \n",
        "# to consecutively print 50 rows at a time (so that all would be visible) bringing up rows to examine them.The columns were divided so that all would be visible. The corrections were then made.\n",
        "# print(df.shape)\n",
        "# print(df.columns)\n",
        "# print(df.loc[730:735, 'BMI':'Hyper'])\n",
        "# print(df.loc[0:50, 'Cellulitis':'Smoke_3'])\n",
        "df['PVD'].loc[[18, 122, 215]] = 0\n",
        "df['Hyper'].loc[215] = 0\n",
        "df['IDDM'].loc[[292, 427, 526, 543]] = 0\n",
        "df['Neuro'].loc[[526, 533, 543]] = 0\n",
        "df['Cellulitis'].loc[[5, 93, 110, 140, 481]] = 1\n",
        "df['Cellulitis'].loc[[292, 307, 732]] = 0"
      ],
      "execution_count": 0,
      "outputs": [
        {
          "output_type": "stream",
          "text": [
            "/usr/local/lib/python3.6/dist-packages/pandas/core/indexing.py:671: SettingWithCopyWarning: \n",
            "A value is trying to be set on a copy of a slice from a DataFrame\n",
            "\n",
            "See the caveats in the documentation: https://pandas.pydata.org/pandas-docs/stable/user_guide/indexing.html#returning-a-view-versus-a-copy\n",
            "  self._setitem_with_indexer(indexer, value)\n"
          ],
          "name": "stderr"
        }
      ]
    },
    {
      "cell_type": "code",
      "metadata": {
        "id": "rQcjPW5o3PaI",
        "colab_type": "code",
        "outputId": "2d9d412d-901b-4343-b434-931922a50349",
        "colab": {
          "base_uri": "https://localhost:8080/",
          "height": 979
        }
      },
      "source": [
        "# !pip install git+git://github.com/fchollet/keras.git --upgrade --no-deps\n",
        "!pip install tensorflow==1.14.0\n",
        "!pip install keras\n",
        "import tensorflow\n",
        "from keras.models import Sequential\n",
        "from keras.layers import Dense\n",
        "from keras.utils import to_categorical\n",
        "from keras.layers import BatchNormalization\n",
        "from sklearn.model_selection import RandomizedSearchCV\n",
        "from keras.wrappers.scikit_learn import KerasClassifier\n",
        "from sklearn.model_selection import cross_val_score\n",
        "from sklearn.model_selection import train_test_split\n",
        "from sklearn.preprocessing import StandardScaler"
      ],
      "execution_count": 0,
      "outputs": [
        {
          "output_type": "stream",
          "text": [
            "Requirement already satisfied: tensorflow==1.14.0 in /usr/local/lib/python3.6/dist-packages (1.14.0)\n",
            "Requirement already satisfied: absl-py>=0.7.0 in /usr/local/lib/python3.6/dist-packages (from tensorflow==1.14.0) (0.9.0)\n",
            "Requirement already satisfied: google-pasta>=0.1.6 in /usr/local/lib/python3.6/dist-packages (from tensorflow==1.14.0) (0.2.0)\n",
            "Requirement already satisfied: six>=1.10.0 in /usr/local/lib/python3.6/dist-packages (from tensorflow==1.14.0) (1.12.0)\n",
            "Requirement already satisfied: tensorflow-estimator<1.15.0rc0,>=1.14.0rc0 in /usr/local/lib/python3.6/dist-packages (from tensorflow==1.14.0) (1.14.0)\n",
            "Requirement already satisfied: gast>=0.2.0 in /usr/local/lib/python3.6/dist-packages (from tensorflow==1.14.0) (0.3.3)\n",
            "Requirement already satisfied: astor>=0.6.0 in /usr/local/lib/python3.6/dist-packages (from tensorflow==1.14.0) (0.8.1)\n",
            "Requirement already satisfied: wrapt>=1.11.1 in /usr/local/lib/python3.6/dist-packages (from tensorflow==1.14.0) (1.12.1)\n",
            "Requirement already satisfied: keras-preprocessing>=1.0.5 in /usr/local/lib/python3.6/dist-packages (from tensorflow==1.14.0) (1.1.0)\n",
            "Requirement already satisfied: wheel>=0.26 in /usr/local/lib/python3.6/dist-packages (from tensorflow==1.14.0) (0.34.2)\n",
            "Requirement already satisfied: termcolor>=1.1.0 in /usr/local/lib/python3.6/dist-packages (from tensorflow==1.14.0) (1.1.0)\n",
            "Requirement already satisfied: tensorboard<1.15.0,>=1.14.0 in /usr/local/lib/python3.6/dist-packages (from tensorflow==1.14.0) (1.14.0)\n",
            "Requirement already satisfied: numpy<2.0,>=1.14.5 in /usr/local/lib/python3.6/dist-packages (from tensorflow==1.14.0) (1.18.3)\n",
            "Requirement already satisfied: keras-applications>=1.0.6 in /usr/local/lib/python3.6/dist-packages (from tensorflow==1.14.0) (1.0.8)\n",
            "Requirement already satisfied: protobuf>=3.6.1 in /usr/local/lib/python3.6/dist-packages (from tensorflow==1.14.0) (3.10.0)\n",
            "Requirement already satisfied: grpcio>=1.8.6 in /usr/local/lib/python3.6/dist-packages (from tensorflow==1.14.0) (1.28.1)\n",
            "Requirement already satisfied: markdown>=2.6.8 in /usr/local/lib/python3.6/dist-packages (from tensorboard<1.15.0,>=1.14.0->tensorflow==1.14.0) (3.2.1)\n",
            "Requirement already satisfied: werkzeug>=0.11.15 in /usr/local/lib/python3.6/dist-packages (from tensorboard<1.15.0,>=1.14.0->tensorflow==1.14.0) (1.0.1)\n",
            "Requirement already satisfied: setuptools>=41.0.0 in /usr/local/lib/python3.6/dist-packages (from tensorboard<1.15.0,>=1.14.0->tensorflow==1.14.0) (46.1.3)\n",
            "Requirement already satisfied: h5py in /usr/local/lib/python3.6/dist-packages (from keras-applications>=1.0.6->tensorflow==1.14.0) (2.10.0)\n",
            "Requirement already satisfied: keras in /usr/local/lib/python3.6/dist-packages (2.3.1)\n",
            "Requirement already satisfied: numpy>=1.9.1 in /usr/local/lib/python3.6/dist-packages (from keras) (1.18.3)\n",
            "Requirement already satisfied: pyyaml in /usr/local/lib/python3.6/dist-packages (from keras) (3.13)\n",
            "Requirement already satisfied: h5py in /usr/local/lib/python3.6/dist-packages (from keras) (2.10.0)\n",
            "Requirement already satisfied: keras-applications>=1.0.6 in /usr/local/lib/python3.6/dist-packages (from keras) (1.0.8)\n",
            "Requirement already satisfied: keras-preprocessing>=1.0.5 in /usr/local/lib/python3.6/dist-packages (from keras) (1.1.0)\n",
            "Requirement already satisfied: scipy>=0.14 in /usr/local/lib/python3.6/dist-packages (from keras) (1.4.1)\n",
            "Requirement already satisfied: six>=1.9.0 in /usr/local/lib/python3.6/dist-packages (from keras) (1.12.0)\n"
          ],
          "name": "stdout"
        },
        {
          "output_type": "stream",
          "text": [
            "/usr/local/lib/python3.6/dist-packages/tensorflow/python/framework/dtypes.py:516: FutureWarning: Passing (type, 1) or '1type' as a synonym of type is deprecated; in a future version of numpy, it will be understood as (type, (1,)) / '(1,)type'.\n",
            "  _np_qint8 = np.dtype([(\"qint8\", np.int8, 1)])\n",
            "/usr/local/lib/python3.6/dist-packages/tensorflow/python/framework/dtypes.py:517: FutureWarning: Passing (type, 1) or '1type' as a synonym of type is deprecated; in a future version of numpy, it will be understood as (type, (1,)) / '(1,)type'.\n",
            "  _np_quint8 = np.dtype([(\"quint8\", np.uint8, 1)])\n",
            "/usr/local/lib/python3.6/dist-packages/tensorflow/python/framework/dtypes.py:518: FutureWarning: Passing (type, 1) or '1type' as a synonym of type is deprecated; in a future version of numpy, it will be understood as (type, (1,)) / '(1,)type'.\n",
            "  _np_qint16 = np.dtype([(\"qint16\", np.int16, 1)])\n",
            "/usr/local/lib/python3.6/dist-packages/tensorflow/python/framework/dtypes.py:519: FutureWarning: Passing (type, 1) or '1type' as a synonym of type is deprecated; in a future version of numpy, it will be understood as (type, (1,)) / '(1,)type'.\n",
            "  _np_quint16 = np.dtype([(\"quint16\", np.uint16, 1)])\n",
            "/usr/local/lib/python3.6/dist-packages/tensorflow/python/framework/dtypes.py:520: FutureWarning: Passing (type, 1) or '1type' as a synonym of type is deprecated; in a future version of numpy, it will be understood as (type, (1,)) / '(1,)type'.\n",
            "  _np_qint32 = np.dtype([(\"qint32\", np.int32, 1)])\n",
            "/usr/local/lib/python3.6/dist-packages/tensorflow/python/framework/dtypes.py:525: FutureWarning: Passing (type, 1) or '1type' as a synonym of type is deprecated; in a future version of numpy, it will be understood as (type, (1,)) / '(1,)type'.\n",
            "  np_resource = np.dtype([(\"resource\", np.ubyte, 1)])\n",
            "/usr/local/lib/python3.6/dist-packages/tensorboard/compat/tensorflow_stub/dtypes.py:541: FutureWarning: Passing (type, 1) or '1type' as a synonym of type is deprecated; in a future version of numpy, it will be understood as (type, (1,)) / '(1,)type'.\n",
            "  _np_qint8 = np.dtype([(\"qint8\", np.int8, 1)])\n",
            "/usr/local/lib/python3.6/dist-packages/tensorboard/compat/tensorflow_stub/dtypes.py:542: FutureWarning: Passing (type, 1) or '1type' as a synonym of type is deprecated; in a future version of numpy, it will be understood as (type, (1,)) / '(1,)type'.\n",
            "  _np_quint8 = np.dtype([(\"quint8\", np.uint8, 1)])\n",
            "/usr/local/lib/python3.6/dist-packages/tensorboard/compat/tensorflow_stub/dtypes.py:543: FutureWarning: Passing (type, 1) or '1type' as a synonym of type is deprecated; in a future version of numpy, it will be understood as (type, (1,)) / '(1,)type'.\n",
            "  _np_qint16 = np.dtype([(\"qint16\", np.int16, 1)])\n",
            "/usr/local/lib/python3.6/dist-packages/tensorboard/compat/tensorflow_stub/dtypes.py:544: FutureWarning: Passing (type, 1) or '1type' as a synonym of type is deprecated; in a future version of numpy, it will be understood as (type, (1,)) / '(1,)type'.\n",
            "  _np_quint16 = np.dtype([(\"quint16\", np.uint16, 1)])\n",
            "/usr/local/lib/python3.6/dist-packages/tensorboard/compat/tensorflow_stub/dtypes.py:545: FutureWarning: Passing (type, 1) or '1type' as a synonym of type is deprecated; in a future version of numpy, it will be understood as (type, (1,)) / '(1,)type'.\n",
            "  _np_qint32 = np.dtype([(\"qint32\", np.int32, 1)])\n",
            "/usr/local/lib/python3.6/dist-packages/tensorboard/compat/tensorflow_stub/dtypes.py:550: FutureWarning: Passing (type, 1) or '1type' as a synonym of type is deprecated; in a future version of numpy, it will be understood as (type, (1,)) / '(1,)type'.\n",
            "  np_resource = np.dtype([(\"resource\", np.ubyte, 1)])\n",
            "Using TensorFlow backend.\n"
          ],
          "name": "stderr"
        }
      ]
    },
    {
      "cell_type": "code",
      "metadata": {
        "id": "DXYy2qKqBv6n",
        "colab_type": "code",
        "colab": {}
      },
      "source": [
        "# The features and target are separated into 'X' and 'y'.'X' is then standardized.\n",
        "y = df['Ulcer'].copy().values #values makes dataframe into array to correct if order changes lose column names and index\n",
        "X = df.drop(['Ulcer'], axis=1).copy().values\n",
        "SS_scaler = StandardScaler()\n",
        "X = SS_scaler.fit_transform(X)\n",
        "X_train, X_test, y_train,  y_test = train_test_split(X, y, test_size=0.2, random_state=123)\n",
        "# X_train, X_test, y_train, y_test = train_test_split(X, y, test_size=0.2, random_state=1)\n",
        "# X_train, X_val, y_train, y_val = train_test_split(X_train, y_train, test_size=0.25, random_state=1) # 0.25 x 0.8 = 0.2"
      ],
      "execution_count": 0,
      "outputs": []
    },
    {
      "cell_type": "markdown",
      "metadata": {
        "id": "9dgyzF0spQtZ",
        "colab_type": "text"
      },
      "source": [
        "In the creation of the model, dropout layers as well as l1 and l2 regularization were attempted, but they did not improve the accuracy. \n",
        "The number of layers had to be kept low since too many neurons are not indicated for a small data set. \n",
        "A larger data set would allow for a more complex model which could yield more accurate results. This could be achieved by a larger medical organization or the combining of records from many offices. "
      ]
    },
    {
      "cell_type": "code",
      "metadata": {
        "colab_type": "code",
        "id": "f_aymyqqBoYe",
        "outputId": "bb83725d-0670-4fd1-9cf2-ba09da8910e9",
        "colab": {
          "base_uri": "https://localhost:8080/",
          "height": 266
        }
      },
      "source": [
        "# The model is created. A wrapper is needed so that cross validation can be performed within the keras framework. \n",
        "def buildModel():\n",
        "   model = Sequential() # can put parameters like input_dim and change when run\n",
        "   model.add(Dense(5, input_dim=X_train.shape[1], activation='relu'))  \n",
        "   model.add(Dense(4, activation='sigmoid')) \n",
        "   model.add(Dense(1, activation=None))   \n",
        "   model.compile(optimizer = 'adam', loss = 'binary_crossentropy', metrics=['accuracy'])   \n",
        "   return model\n",
        "model = buildModel()\n",
        "model.summary()\n"
      ],
      "execution_count": 0,
      "outputs": [
        {
          "output_type": "stream",
          "text": [
            "Model: \"sequential_12\"\n",
            "_________________________________________________________________\n",
            "Layer (type)                 Output Shape              Param #   \n",
            "=================================================================\n",
            "dense_34 (Dense)             (None, 5)                 75        \n",
            "_________________________________________________________________\n",
            "dense_35 (Dense)             (None, 4)                 24        \n",
            "_________________________________________________________________\n",
            "dense_36 (Dense)             (None, 1)                 5         \n",
            "=================================================================\n",
            "Total params: 104\n",
            "Trainable params: 104\n",
            "Non-trainable params: 0\n",
            "_________________________________________________________________\n"
          ],
          "name": "stdout"
        }
      ]
    },
    {
      "cell_type": "code",
      "metadata": {
        "id": "t8-XJAIiEvNh",
        "colab_type": "code",
        "outputId": "ed97c44b-e1b0-4ddf-ff73-c7ea1cbd7a25",
        "colab": {
          "base_uri": "https://localhost:8080/",
          "height": 284
        }
      },
      "source": [
        "# Early stopping is instituted in case the val_loss stops improving.\n",
        "from keras.callbacks import EarlyStopping\n",
        "es = EarlyStopping(monitor='val_loss', mode='min', verbose=1, patience=int(5)) \n",
        "model.fit(X_train, y_train, epochs = 30, validation_split=0.2, batch_size=32, callbacks=[es]) #batch_size default is 32.Increase by 2.validation_data=(X_val, y_val)"
      ],
      "execution_count": 0,
      "outputs": [
        {
          "output_type": "stream",
          "text": [
            "Train on 483 samples, validate on 121 samples\n",
            "Epoch 1/30\n",
            "483/483 [==============================] - 0s 76us/step - loss: 3.1936 - accuracy: 0.3934 - val_loss: 3.6969 - val_accuracy: 0.4050\n",
            "Epoch 2/30\n",
            "483/483 [==============================] - 0s 65us/step - loss: 3.1936 - accuracy: 0.3934 - val_loss: 3.6969 - val_accuracy: 0.4050\n",
            "Epoch 3/30\n",
            "483/483 [==============================] - 0s 62us/step - loss: 3.1936 - accuracy: 0.3934 - val_loss: 3.6969 - val_accuracy: 0.4050\n",
            "Epoch 4/30\n",
            "483/483 [==============================] - 0s 61us/step - loss: 3.1936 - accuracy: 0.3934 - val_loss: 3.6969 - val_accuracy: 0.4050\n",
            "Epoch 5/30\n",
            "483/483 [==============================] - 0s 58us/step - loss: 3.1936 - accuracy: 0.3934 - val_loss: 3.6969 - val_accuracy: 0.4050\n",
            "Epoch 6/30\n",
            "483/483 [==============================] - 0s 58us/step - loss: 3.1936 - accuracy: 0.3934 - val_loss: 3.6969 - val_accuracy: 0.4050\n",
            "Epoch 00006: early stopping\n"
          ],
          "name": "stdout"
        },
        {
          "output_type": "execute_result",
          "data": {
            "text/plain": [
              "<keras.callbacks.callbacks.History at 0x7f00558c2080>"
            ]
          },
          "metadata": {
            "tags": []
          },
          "execution_count": 35
        }
      ]
    },
    {
      "cell_type": "code",
      "metadata": {
        "id": "k5fbn2FyfULb",
        "colab_type": "code",
        "outputId": "a0098942-d37d-408f-9aad-6077d06962da",
        "colab": {
          "base_uri": "https://localhost:8080/",
          "height": 408
        }
      },
      "source": [
        "# The model is evaluated with various metrics The training and testing accuracy scores are close. This indicated that the model is not overfitted. \n",
        "# The result for model.evaluate returns first the loss and then the accuracy.\n",
        "\n",
        "from sklearn.metrics import accuracy_score, classification_report, roc_auc_score, log_loss, confusion_matrix\n",
        "\n",
        "print(\"Final loss value:\",model.evaluate(X_train, y_train))\n",
        "predTrain = model.predict(X_train) \n",
        "predTest = model.predict(X_test) > 0.5  # This is positive for ulcer, has True and False instead of 0 and 1 and is binary\n",
        "accuracyTrain = model.evaluate(X_train, y_train)\n",
        "accuracyTest = model.evaluate(X_test, y_test)\n",
        "accuracyScore = accuracy_score(y_test, predTest)\n",
        "ll = log_loss(y_test, predTest)\n",
        "auc = roc_auc_score(y_test, predTest)\n",
        "classReport = classification_report(y_test, predTest)\n",
        "conf_mat = confusion_matrix(y_test, predTest)\n",
        "print('Accuracy of Training Data:', accuracyTrain)\n",
        "print('Accuracy of Testing Data:', accuracyTest)\n",
        "print('Accuracy Score:', accuracyScore)\n",
        "print('Log loss:', ll)\n",
        "print('AUC:', auc)\n",
        "print('Classification Report:') \n",
        "print(classReport)\n",
        "print('Confusion Matrix:') \n",
        "print(conf_mat)"
      ],
      "execution_count": 0,
      "outputs": [
        {
          "output_type": "stream",
          "text": [
            "604/604 [==============================] - 0s 191us/step\n",
            "Final loss value: [1.5998280403629834, 0.2665562927722931]\n",
            "604/604 [==============================] - 0s 30us/step\n",
            "151/151 [==============================] - 0s 87us/step\n",
            "Accuracy of Training Data: [1.5998280403629834, 0.2665562927722931]\n",
            "Accuracy of Testing Data: [1.5381499742040572, 0.21854305267333984]\n",
            "Accuracy Score: 0.2185430463576159\n",
            "Log loss: 26.991186539727106\n",
            "AUC: 0.5127692307692308\n",
            "Classification Report:\n",
            "              precision    recall  f1-score   support\n",
            "\n",
            "           0       0.89      0.06      0.12       125\n",
            "           1       0.18      0.96      0.30        26\n",
            "\n",
            "    accuracy                           0.22       151\n",
            "   macro avg       0.53      0.51      0.21       151\n",
            "weighted avg       0.77      0.22      0.15       151\n",
            "\n",
            "Confusion Matrix:\n",
            "[[  8 117]\n",
            " [  1  25]]\n"
          ],
          "name": "stdout"
        }
      ]
    },
    {
      "cell_type": "code",
      "metadata": {
        "id": "ieinzB6cGcRB",
        "colab_type": "code",
        "outputId": "1c4f15ce-a953-4458-8041-b2864b6f8212",
        "colab": {
          "base_uri": "https://localhost:8080/",
          "height": 230
        }
      },
      "source": [
        "# Determine the cross validation score. The mean accuracy is lower, a larger data set would give a better indication.\n",
        "from sklearn.model_selection import cross_val_score\n",
        "def scorer(model, X, y):\n",
        "  return accuracy_score(y, model.predict(X))\n",
        "model2 = KerasClassifier(buildModel)\n",
        "# Check how your keras model performs with 5 fold cross-validation\n",
        "kfold = cross_val_score(model2, X, y, cv=5, scoring=scorer)\n",
        "# Print the mean accuracy per fold\n",
        "print('Mean Accuracy Per Fold:', kfold.mean())\n",
        "# Print the standard deviation per fold\n",
        "print('Standard Deviation Per Fold:', kfold.std())"
      ],
      "execution_count": 0,
      "outputs": [
        {
          "output_type": "stream",
          "text": [
            "Epoch 1/1\n",
            "604/604 [==============================] - 0s 281us/step - loss: 2.0555 - accuracy: 0.7980\n",
            "Epoch 1/1\n",
            "604/604 [==============================] - 0s 283us/step - loss: 2.9910 - accuracy: 0.7036\n",
            "Epoch 1/1\n",
            "604/604 [==============================] - 0s 302us/step - loss: 3.2178 - accuracy: 0.0000e+00\n",
            "Epoch 1/1\n",
            "604/604 [==============================] - 0s 314us/step - loss: 0.5574 - accuracy: 0.7914\n",
            "Epoch 1/1\n",
            "604/604 [==============================] - 0s 332us/step - loss: 3.0901 - accuracy: 0.0033\n",
            "Mean Accuracy Per Fold: 0.7960264900662253\n",
            "Standard Deviation Per Fold: 0.019375813030897752\n"
          ],
          "name": "stdout"
        }
      ]
    }
  ]
}