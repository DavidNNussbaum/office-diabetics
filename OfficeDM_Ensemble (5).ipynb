{
  "nbformat": 4,
  "nbformat_minor": 0,
  "metadata": {
    "colab": {
      "name": "OfficeDM-Ensemble.ipynb",
      "provenance": [],
      "collapsed_sections": []
    },
    "kernelspec": {
      "name": "python3",
      "display_name": "Python 3"
    }
  },
  "cells": [
    {
      "cell_type": "markdown",
      "metadata": {
        "id": "58MZnL_EcKQ3",
        "colab_type": "text"
      },
      "source": [
        "The information contained in this csv file was taken from actual office records. The exact date of birth within the month was randomly changed for all entries due to HIPAA regulations. \n",
        "BMI is Body Mass Index. The next two columns are Date of Birth and Sex. The columns which follow represent whether there was the presence of non-insulin \n",
        "dependent diabetes mellitus, insulin dependent diabetes melitus, peripheral vascular disease (as evidenced by one or two non-palpable pedal pulses, \n",
        "skin atrophy, decreased hair, and nail changes), neuropathy (as evidenced by decreased sensation of the 5.07 Semmes-Weinstein monofilament fiber), \n",
        "the presence of hyperkeratosis (callus), the presence of an ulcer, the presence of cellulitis, and the first dates that these occurred. 'M' is male, \n",
        "'F' is female, 'Y' is yes, 'N' is no. Within the 'Smoking' column 'N' is never smoked, 'F' is former smoker, 'C' is current smoker, \n",
        "and 'E' means no data was available.\n",
        "\n",
        "The purpose of this study is to compare how various classifiers compare and  can be utilized as part of an supervised learning model for an office setting. The results utilizing two ensemble classifiers (voting and random forest) are also given. At the end there is a summary of the results from each of the classifiers.\n",
        "\n",
        "There was no retrievable data on previous history of ulceration or cellulitis.\n",
        "Instead of NIDDM and IDDM columns there could have been a column for one or the other with a 1 representing the presence of that type and a 0 representing the absence. This would be possible since only diabetics were included in this study. Fitting the model on data that contains that information regarding\n",
        "first ulceration date or first cellulitis date would have produced more accurate results. In addition, only approximately 760 records of diabetic patients were available.\n",
        "\n",
        "This file demonstrates how various classifiers can be utilized in an a clinical setting. A larger data set would increase the accuracy of the model. Please refer to the file where a keras model was utilized and demonstrated worse results due to the small size of the data set. The results could be different with a much larger data set. This larger data set could be obtained from a larger office or from an amalgamation of offices. In addition, the EHR could be specifically designed to capture the information which will be utilized in creating the data set. The target is the 'Ulcer' column with the goal of the model being the identification of those diabetic patients likely to develop ulcerations.These patients would then receive supplemental instructions and observation.\n"
      ]
    },
    {
      "cell_type": "code",
      "metadata": {
        "id": "PKmf9pxCZ6D0",
        "colab_type": "code",
        "outputId": "388cadda-ab79-44a3-f1eb-6aee03009c24",
        "colab": {
          "base_uri": "https://localhost:8080/",
          "height": 497
        }
      },
      "source": [
        "import pandas as pd\n",
        "import numpy as np\n",
        "import datetime as dt\n",
        "from datetime import timedelta\n",
        "import matplotlib.pyplot as plt\n",
        "import seaborn as sns\n",
        "\n",
        "# The is file opened as a DataFrame, the first 5 rows are observed, and the data type of each column is determined.\n",
        "df = pd.read_csv(r'https://raw.githubusercontent.com/DavidNNussbaum/office-diabetics/master/OfficeDiabetics.csv')\n",
        "print(df.head())  \n",
        "print(df.dtypes)"
      ],
      "execution_count": 0,
      "outputs": [
        {
          "output_type": "stream",
          "text": [
            "    BMI         DOB Sex  ... Unnamed: 13 Unnamed: 14 Unnamed: 15\n",
            "0  28.2  10/11/1938   F  ...         NaN         NaN         NaN\n",
            "1         6/14/1957   F  ...         NaN         NaN         NaN\n",
            "2  40.7   4/23/1966   M  ...         NaN         NaN         NaN\n",
            "3  38.4   3/11/1967   F  ...         NaN         NaN         NaN\n",
            "4  29.8  10/14/1939   M  ...         NaN         NaN         NaN\n",
            "\n",
            "[5 rows x 16 columns]\n",
            "BMI                 object\n",
            "DOB                 object\n",
            "Sex                 object\n",
            "NIDDM               object\n",
            "IDDM                object\n",
            "PVD                 object\n",
            "Neuro               object\n",
            "Hyper               object\n",
            "Ulcer               object\n",
            "Cellulitis          object\n",
            "Ulcer Date          object\n",
            "Smoking             object\n",
            "Cellulitis Date     object\n",
            "Unnamed: 13        float64\n",
            "Unnamed: 14        float64\n",
            "Unnamed: 15         object\n",
            "dtype: object\n"
          ],
          "name": "stdout"
        },
        {
          "output_type": "stream",
          "text": [
            "/usr/local/lib/python3.6/dist-packages/statsmodels/tools/_testing.py:19: FutureWarning: pandas.util.testing is deprecated. Use the functions in the public API at pandas.testing instead.\n",
            "  import pandas.util.testing as tm\n"
          ],
          "name": "stderr"
        }
      ]
    },
    {
      "cell_type": "code",
      "metadata": {
        "id": "OY3vxnMnfhyx",
        "colab_type": "code",
        "outputId": "9f7d0481-8ae7-4b6b-f8e7-aaf7d3943fe8",
        "colab": {
          "base_uri": "https://localhost:8080/",
          "height": 159
        }
      },
      "source": [
        "# Eliminate 'Unnamed' columns.\n",
        "df = df.loc[:, ~df.columns.str.contains('^Unnamed')]\n",
        "# Eliminate any white spaces in column names\n",
        "for column_name in df.columns:\n",
        "    try:\n",
        "        df[column_name] = df[column_name].str.strip()\n",
        "    except AttributeError:  #This means that this error won't stop it\n",
        "        pass\n",
        "print(df.head())"
      ],
      "execution_count": 0,
      "outputs": [
        {
          "output_type": "stream",
          "text": [
            "    BMI         DOB Sex NIDDM  ... Cellulitis Ulcer Date Smoking Cellulitis Date\n",
            "0  28.2  10/11/1938   F     Y  ...        NaN        NaN       F             NaN\n",
            "1         6/14/1957   F   NaN  ...        NaN        NaN       N             NaN\n",
            "2  40.7   4/23/1966   M     Y  ...        NaN        NaN       C             NaN\n",
            "3  38.4   3/11/1967   F   NaN  ...          Y        NaN       N       5/20/2019\n",
            "4  29.8  10/14/1939   M     Y  ...        NaN        NaN       C             NaN\n",
            "\n",
            "[5 rows x 13 columns]\n"
          ],
          "name": "stdout"
        }
      ]
    },
    {
      "cell_type": "code",
      "metadata": {
        "id": "Vr0oyziggVLG",
        "colab_type": "code",
        "colab": {}
      },
      "source": [
        "# Replace the areas where there are no entries with 0 and a \"Y\" with a 1 in 6 of the columns.  \n",
        "# Note that there was one entry in the 'Ulcer' column which was 'I' but should have been 'Y'. This is being corrected. \n",
        "# Those with no entry (either NaN or nothing) in the 'Smoking' column were replaced with 'E'. \n",
        "# df['Column Name'].unique() was used later on when it was indicated that there were non-integers. These are being corrected here.\n",
        "# In the 'Sex' column replace 'F' with 0 and 'M' with 1.\n",
        "df['NIDDM'] = df['NIDDM'].replace(np.NaN, 0, regex=True) \n",
        "df['NIDDM'] = df['NIDDM'].replace('Y', 1, regex=True) \n",
        "df['IDDM'] = df['IDDM'].replace(np.NaN, 0, regex=True) \n",
        "df['IDDM'] = df['IDDM'].replace('nan', 0, regex=True) \n",
        "df['IDDM'] = df['IDDM'].replace('Y', 1, regex=True) \n",
        "df['PVD'] = df['PVD'].replace(np.NaN, 0, regex=True) \n",
        "df['PVD'] = df['PVD'].replace('Y', 1, regex=True) \n",
        "df['PVD'] = df['PVD'].replace('nan', 0, regex=True) \n",
        "df['Neuro'] = df['Neuro'].replace(np.NaN, 0, regex=True)\n",
        "df['Neuro'] = df['Neuro'].replace('Y', 1, regex=True)  \n",
        "df['Neuro'] = df['Neuro'].replace('nan', 0, regex=True) \n",
        "df['Hyper'] = df['Hyper'].replace(np.NaN, 0, regex=True)\n",
        "df['Hyper'] = df['Hyper'].replace('Y', 1, regex=True) \n",
        "df['Hyper'] = df['Hyper'].replace('nan', 0, regex=True) \n",
        "df['Ulcer'] = df['Ulcer'].replace(np.NaN, 0, regex=True)\n",
        "df['Ulcer'] = df['Ulcer'].replace('I', 1, regex=True)\n",
        "df['Ulcer'] = df['Ulcer'].replace('', 0, regex=True)\n",
        "df['Ulcer'] = df['Ulcer'].replace('Y', 1, regex=True)\n",
        "df['Sex'] = df['Sex'].replace('F', 0, regex=True)\n",
        "df['Sex'] = df['Sex'].replace('M', 1, regex=True)\n",
        "df['Cellulitis'] = df['Cellulitis'].replace(np.NaN, 0, regex=True) \n",
        "df['Cellulitis'] = df['Cellulitis'].replace('Y', 1, regex=True) \n",
        "df['Cellulitis'] = df['Cellulitis'].replace('nan', 0, regex=True) \n",
        "df['Smoking'] = df['Smoking'].replace(np.NaN, 'E', regex=True) \n",
        "df['Smoking'] = df['Smoking'].replace('', 'E', regex=True)"
      ],
      "execution_count": 0,
      "outputs": []
    },
    {
      "cell_type": "markdown",
      "metadata": {
        "id": "KVtdKmYCs5Jb",
        "colab_type": "text"
      },
      "source": [
        "In the assembling of the ensemble there was an error message regarding the presence of non-integers. If the data set had been larger those rows would just have been dropped. Since there are only 761 rows, and the correct information was obtainable, the non-integers were corrected. The first two codes (which are now commented out) were used to respectively determine the number of rows and names of the columns.) The third and fourth codes (also commented out)\n",
        "were used to consecutively print 50 rows at a time (printing more than 50 rows would not have allowed all of them to be visible) bringing up rows to examine them. The columns were divided so that all would be visable. The corrections were then made.\n",
        "The 'Ulcer Date', 'Smoking' and \"Cellulitis Date' columns will be dealt with later."
      ]
    },
    {
      "cell_type": "code",
      "metadata": {
        "id": "0FR5rulhnIMv",
        "colab_type": "code",
        "outputId": "9627cae6-76f3-4f30-d21c-43a167f729bb",
        "colab": {
          "base_uri": "https://localhost:8080/",
          "height": 106
        }
      },
      "source": [
        "# print(df.shape)\n",
        "# print(df.columns)\n",
        "# print(df.loc[0:50, 'DOB':'Neuro'])\n",
        "# print(df.loc[0:50, 'Hyper':'Cellulitis'])\n",
        "df['DOB'].loc[397] = '12/11/1955'\n",
        "df['DOB'].loc[400] = '02/07/1946'\n",
        "df['DOB'].loc[529] = '02/04/1957'\n",
        "df['DOB'].loc[541] = '02/19/1929'\n",
        "df['PVD'].loc[[18, 122, 215]] = 0\n",
        "df['PVD'].loc[[147]] = 1\n",
        "df['Hyper'].loc[215, 217] = 0\n",
        "df['Hyper'].loc[147, 274] = 1\n",
        "df['IDDM'].loc[[18, 292, 427, 526, 543]] = 0\n",
        "df['Neuro'].loc[[526, 533, 543]] = 0\n",
        "df['Cellulitis'].loc[[5, 93, 110, 140, 481]] = 1\n",
        "df['Cellulitis'].loc[[292, 307, 732]] = 0"
      ],
      "execution_count": 0,
      "outputs": [
        {
          "output_type": "stream",
          "text": [
            "/usr/local/lib/python3.6/dist-packages/pandas/core/indexing.py:671: SettingWithCopyWarning: \n",
            "A value is trying to be set on a copy of a slice from a DataFrame\n",
            "\n",
            "See the caveats in the documentation: https://pandas.pydata.org/pandas-docs/stable/user_guide/indexing.html#returning-a-view-versus-a-copy\n",
            "  self._setitem_with_indexer(indexer, value)\n"
          ],
          "name": "stderr"
        }
      ]
    },
    {
      "cell_type": "code",
      "metadata": {
        "id": "YP13IUp0iQ0g",
        "colab_type": "code",
        "outputId": "78245ad6-365c-4551-dc59-b65d1e6487ee",
        "colab": {
          "base_uri": "https://localhost:8080/",
          "height": 230
        }
      },
      "source": [
        "# Fill in blanks in the 'Ulcer Date' and the 'Cellulitis Date' columns with one of the last data retrieval dates.\n",
        "df['Ulcer Date'] = df['Ulcer Date'].replace(np.NaN, '03/31/2020')\n",
        "df['Cellulitis Date'] = df['Cellulitis Date'].replace(np.NaN, '03/31/2020')\n",
        "print(df['Ulcer Date'].head())\n",
        "print(df['Cellulitis Date'].head())"
      ],
      "execution_count": 0,
      "outputs": [
        {
          "output_type": "stream",
          "text": [
            "0    03/31/2020\n",
            "1    03/31/2020\n",
            "2    03/31/2020\n",
            "3    03/31/2020\n",
            "4    03/31/2020\n",
            "Name: Ulcer Date, dtype: object\n",
            "0    03/31/2020\n",
            "1    03/31/2020\n",
            "2    03/31/2020\n",
            "3     5/20/2019\n",
            "4    03/31/2020\n",
            "Name: Cellulitis Date, dtype: object\n"
          ],
          "name": "stdout"
        }
      ]
    },
    {
      "cell_type": "code",
      "metadata": {
        "id": "ZS1C734utvpz",
        "colab_type": "code",
        "outputId": "74351cdc-2cb1-41d5-ad25-9fdf599b1b01",
        "colab": {
          "base_uri": "https://localhost:8080/",
          "height": 35
        }
      },
      "source": [
        "# Determine current Data Frame shape\n",
        "print(df.shape)"
      ],
      "execution_count": 0,
      "outputs": [
        {
          "output_type": "stream",
          "text": [
            "(761, 13)\n"
          ],
          "name": "stdout"
        }
      ]
    },
    {
      "cell_type": "code",
      "metadata": {
        "id": "wN5JL8iJkz_5",
        "colab_type": "code",
        "outputId": "c58245ee-6318-4ddd-989d-b737f4f76890",
        "colab": {
          "base_uri": "https://localhost:8080/",
          "height": 141
        }
      },
      "source": [
        "# Convert 'DOB', \"Ulcer Date', and 'Cellulitis Date' columns to datetime64 after ensuring that they all have hyphens instead of lines.\n",
        "df[['DOB', 'Ulcer Date', 'Cellulitis Date']] = \\\n",
        "    df[['DOB', 'Ulcer Date', 'Cellulitis Date']].replace('/', '-', regex=True)  \n",
        "df[['DOB', 'Ulcer Date', 'Cellulitis Date']] = \\\n",
        "    pd.to_datetime(df[['DOB', 'Ulcer Date', 'Cellulitis Date']].stack(), format=\"%m-%d-%Y\", errors='coerce').unstack()\n",
        "# Ensure that the three columns are of type datetime64\n",
        "print(df[['DOB', 'Ulcer Date', 'Cellulitis Date']].dtypes)\n",
        "# Determine which of the 'DOB' column entries are not datetime64\n",
        "print(df[df['DOB'].isnull()])"
      ],
      "execution_count": 0,
      "outputs": [
        {
          "output_type": "stream",
          "text": [
            "DOB                datetime64[ns]\n",
            "Ulcer Date         datetime64[ns]\n",
            "Cellulitis Date    datetime64[ns]\n",
            "dtype: object\n",
            "Empty DataFrame\n",
            "Columns: [BMI, DOB, Sex, NIDDM, IDDM, PVD, Neuro, Hyper, Ulcer, Cellulitis, Ulcer Date, Smoking, Cellulitis Date]\n",
            "Index: []\n"
          ],
          "name": "stdout"
        }
      ]
    },
    {
      "cell_type": "code",
      "metadata": {
        "id": "a8ZfUHr0lyLJ",
        "colab_type": "code",
        "outputId": "c4bd4483-f0cf-4909-a575-d09b9d1e4b5d",
        "colab": {
          "base_uri": "https://localhost:8080/",
          "height": 319
        }
      },
      "source": [
        "# Create new columns for age in years age achieved without an ulcer or cellulitis recorded. \n",
        "df['CellulitisAge'] = ((df['Cellulitis Date'] - (df['DOB'])) / timedelta(days=365))\n",
        "df['UlcerAge'] = ((df['Ulcer Date'] - (df['DOB'])) / timedelta(days=365))\n",
        "# Determine if there are any rows with Nan and eliminate them.\n",
        "print(df[df['CellulitisAge'].isnull()])\n",
        "print(df[df['UlcerAge'].isnull()])\n",
        "# Eliminate rows in 'UlcerAge' which do not have values.\n",
        "df = df.dropna(subset=['UlcerAge'])\n",
        "# Confirm shape of df.\n",
        "print(df.shape)\n",
        "# Change the data type of the new columns to int64 \n",
        "df['CellulitisAge'] = df['CellulitisAge'].astype('object').astype(np.int64)\n",
        "df['UlcerAge'] = df['UlcerAge'].astype('object').astype('int64')\n",
        "# The DOB, Cellulitis Date, and Ulcer Date columns are then dropped.\n",
        "df = df.drop(['DOB', 'Cellulitis Date', 'Ulcer Date'], axis=1)\n",
        "print(df.head())"
      ],
      "execution_count": 0,
      "outputs": [
        {
          "output_type": "stream",
          "text": [
            "Empty DataFrame\n",
            "Columns: [BMI, DOB, Sex, NIDDM, IDDM, PVD, Neuro, Hyper, Ulcer, Cellulitis, Ulcer Date, Smoking, Cellulitis Date, CellulitisAge, UlcerAge]\n",
            "Index: []\n",
            "      BMI        DOB  Sex  ...  Cellulitis Date CellulitisAge UlcerAge\n",
            "246  29.2 1938-01-11    0  ...       2020-03-31     82.273973      NaN\n",
            "476  37.6 1949-07-06    1  ...       2020-03-31     70.783562      NaN\n",
            "\n",
            "[2 rows x 15 columns]\n",
            "(759, 15)\n",
            "    BMI  Sex  NIDDM IDDM PVD  ... Ulcer Cellulitis  Smoking CellulitisAge UlcerAge\n",
            "0  28.2    0      1    0   1  ...     0          0        F            81       81\n",
            "1          0      0    1   0  ...     0          0        N            62       62\n",
            "2  40.7    1      1    0   0  ...     0          0        C            53       53\n",
            "3  38.4    0      0    1   0  ...     0          1        N            52       53\n",
            "4  29.8    1      1    0   1  ...     0          0        C            80       80\n",
            "\n",
            "[5 rows x 12 columns]\n"
          ],
          "name": "stdout"
        }
      ]
    },
    {
      "cell_type": "code",
      "metadata": {
        "id": "onuC_hj9gnnw",
        "colab_type": "code",
        "outputId": "ea417d6a-c612-4274-ed2a-db62c436c8b5",
        "colab": {
          "base_uri": "https://localhost:8080/",
          "height": 35
        }
      },
      "source": [
        "# Change the 'BMI' column from object to float64.\n",
        "df['BMI'] = pd.to_numeric(df['BMI'], errors='coerce')\n",
        "print(df['BMI'].dtypes)"
      ],
      "execution_count": 0,
      "outputs": [
        {
          "output_type": "stream",
          "text": [
            "float64\n"
          ],
          "name": "stdout"
        }
      ]
    },
    {
      "cell_type": "code",
      "metadata": {
        "id": "I1dV7813Mq_9",
        "colab_type": "code",
        "outputId": "dafa46f9-46aa-4617-8444-28bb3a76d956",
        "colab": {
          "base_uri": "https://localhost:8080/",
          "height": 248
        }
      },
      "source": [
        "# The 'IDDM','PVD', 'Neuro', 'Hyper', and 'Cellulitis' columns are converted to int64.\n",
        "df['IDDM'] = df['IDDM'].astype('object').astype('int64')\n",
        "df['PVD'] = df['PVD'].astype('object').astype('int64')\n",
        "df['Neuro'] = df['Neuro'].astype('object').astype('int64')\n",
        "df['Hyper'] = df['Hyper'].astype('object').astype('int64')\n",
        "df['Cellulitis'] = df['Cellulitis'].astype('object').astype('int64')\n",
        "print(df.dtypes)"
      ],
      "execution_count": 0,
      "outputs": [
        {
          "output_type": "stream",
          "text": [
            "BMI              float64\n",
            "Sex                int64\n",
            "NIDDM              int64\n",
            "IDDM               int64\n",
            "PVD                int64\n",
            "Neuro              int64\n",
            "Hyper              int64\n",
            "Ulcer              int64\n",
            "Cellulitis         int64\n",
            "Smoking           object\n",
            "CellulitisAge      int64\n",
            "UlcerAge           int64\n",
            "dtype: object\n"
          ],
          "name": "stdout"
        }
      ]
    },
    {
      "cell_type": "code",
      "metadata": {
        "id": "FZ75lG-Fn_je",
        "colab_type": "code",
        "outputId": "50b93c5b-4a48-4124-bf05-79d26b021ccf",
        "colab": {
          "base_uri": "https://localhost:8080/",
          "height": 159
        }
      },
      "source": [
        "from sklearn.preprocessing import LabelEncoder\n",
        "from sklearn.preprocessing import OneHotEncoder\n",
        "\n",
        "# The 'Smoking' column is being changed from string to numerical\n",
        "le = LabelEncoder() \n",
        "df['Smoking']= le.fit_transform(df['Smoking'])\n",
        "print(df.head())"
      ],
      "execution_count": 0,
      "outputs": [
        {
          "output_type": "stream",
          "text": [
            "    BMI  Sex  NIDDM  IDDM  ...  Cellulitis  Smoking  CellulitisAge  UlcerAge\n",
            "0  28.2    0      1     0  ...           0        2             81        81\n",
            "1   NaN    0      0     1  ...           0        3             62        62\n",
            "2  40.7    1      1     0  ...           0        0             53        53\n",
            "3  38.4    0      0     1  ...           1        3             52        53\n",
            "4  29.8    1      1     0  ...           0        0             80        80\n",
            "\n",
            "[5 rows x 12 columns]\n"
          ],
          "name": "stdout"
        }
      ]
    },
    {
      "cell_type": "code",
      "metadata": {
        "id": "1k0oZDZmmIGf",
        "colab_type": "code",
        "outputId": "e69749b2-fb9e-4613-95af-9820de8e99ff",
        "colab": {
          "base_uri": "https://localhost:8080/",
          "height": 159
        }
      },
      "source": [
        "# The 'Smoking' column is more than binary so one hot encoding must be done.\n",
        "du = pd.get_dummies(df['Smoking'], columns=['Smoking'], prefix='Smoke')\n",
        "df = pd.concat([df, du], axis=1)\n",
        "df = df.drop(['Smoking'], axis=1)\n",
        "print(df.head())"
      ],
      "execution_count": 0,
      "outputs": [
        {
          "output_type": "stream",
          "text": [
            "    BMI  Sex  NIDDM  IDDM  PVD  ...  UlcerAge  Smoke_0  Smoke_1  Smoke_2  Smoke_3\n",
            "0  28.2    0      1     0    1  ...        81        0        0        1        0\n",
            "1   NaN    0      0     1    0  ...        62        0        0        0        1\n",
            "2  40.7    1      1     0    0  ...        53        1        0        0        0\n",
            "3  38.4    0      0     1    0  ...        53        0        0        0        1\n",
            "4  29.8    1      1     0    1  ...        80        1        0        0        0\n",
            "\n",
            "[5 rows x 15 columns]\n"
          ],
          "name": "stdout"
        }
      ]
    },
    {
      "cell_type": "code",
      "metadata": {
        "id": "4A-VdcSkbiDR",
        "colab_type": "code",
        "colab": {}
      },
      "source": [
        "# # The 'Ulcer' column contains integers and strings that must ne changed to all integers.\n",
        "# print(df['Ulcer'].dtypes)\n",
        "# df['Ulcer'] = df['Ulcer'].astype(int)\n",
        "# print(df['Ulcer'].dtypes)\n",
        "# print(df['Ulcer'].unique())"
      ],
      "execution_count": 0,
      "outputs": []
    },
    {
      "cell_type": "code",
      "metadata": {
        "id": "_Jrn6odoN1rr",
        "colab_type": "code",
        "outputId": "936e010a-b562-4a0d-c66a-5134f215b73e",
        "colab": {
          "base_uri": "https://localhost:8080/",
          "height": 88
        }
      },
      "source": [
        "df.columns"
      ],
      "execution_count": 0,
      "outputs": [
        {
          "output_type": "execute_result",
          "data": {
            "text/plain": [
              "Index(['BMI', 'Sex', 'NIDDM', 'IDDM', 'PVD', 'Neuro', 'Hyper', 'Ulcer',\n",
              "       'Cellulitis', 'CellulitisAge', 'UlcerAge', 'Smoke_0', 'Smoke_1',\n",
              "       'Smoke_2', 'Smoke_3'],\n",
              "      dtype='object')"
            ]
          },
          "metadata": {
            "tags": []
          },
          "execution_count": 14
        }
      ]
    },
    {
      "cell_type": "code",
      "metadata": {
        "id": "O1izO4kvm7GP",
        "colab_type": "code",
        "outputId": "6619ffd7-c413-4ac0-9b18-79b40010b085",
        "colab": {
          "base_uri": "https://localhost:8080/",
          "height": 124
        }
      },
      "source": [
        "# The missing BMI values for those with ulcers will be filled in with the mean of those having ulcers.\n",
        "# The missing BMI values for those without ulcers will be filled in with the mean of those not having ulcers.\n",
        "mean0, mean1 = df.groupby('Ulcer').mean()['BMI'].values\n",
        "for i, row in df.iterrows():\n",
        "  if row['Ulcer'] == 0 and np.isnan(row['BMI']):\n",
        "    df.loc[i, 'BMI'] = mean0\n",
        "  elif row['Ulcer'] == 1 and np.isnan(row['BMI']):\n",
        "    df.loc[i, 'BMI'] = mean1\n",
        "print(df['BMI'].head())"
      ],
      "execution_count": 0,
      "outputs": [
        {
          "output_type": "stream",
          "text": [
            "0    28.200000\n",
            "1    33.942791\n",
            "2    40.700000\n",
            "3    38.400000\n",
            "4    29.800000\n",
            "Name: BMI, dtype: float64\n"
          ],
          "name": "stdout"
        }
      ]
    },
    {
      "cell_type": "code",
      "metadata": {
        "id": "4srBipKC9Kcr",
        "colab_type": "code",
        "outputId": "d7094258-41fd-4ec2-c0a6-23c9343b36d0",
        "colab": {
          "base_uri": "https://localhost:8080/",
          "height": 294
        }
      },
      "source": [
        "# Create a histogram of the 'BMI', 'UlcerAge', and CellulitisAge columns.\n",
        "df[['BMI', 'UlcerAge', 'CellulitisAge']].hist()\n",
        "plt.suptitle('Histogram of three columns.')\n",
        "plt.show()\n",
        "# It is interesting to note that the CellulitisAge and UlcerAge features both peak at approximately age 60.\n",
        "# The BMI peaks at approximately 30. "
      ],
      "execution_count": 0,
      "outputs": [
        {
          "output_type": "display_data",
          "data": {
            "image/png": "[encoded data removed]",
            "text/plain": [
              "<Figure size 432x288 with 4 Axes>"
            ]
          },
          "metadata": {
            "tags": [],
            "needs_background": "light"
          }
        }
      ]
    },
    {
      "cell_type": "code",
      "metadata": {
        "id": "5qv9nH1fs6Vm",
        "colab_type": "code",
        "outputId": "b7309c17-b085-412a-d6c9-95bf46876d31",
        "colab": {
          "base_uri": "https://localhost:8080/",
          "height": 585
        }
      },
      "source": [
        "# Create a pairplot of the 'BMI', 'UlcerAge', and CellulitisAge columns.\n",
        "plt.figure(figsize=(12, 6))\n",
        "sns.pairplot(df[['BMI', 'UlcerAge', 'CellulitisAge']])\n",
        "plt.suptitle('Pairplot of Three Columns')\n",
        "plt.show()\n",
        "# The pairplot confirms the linear relationship between UlcerAge and CellulitisAge and the non-liear relationship\n",
        "# between those two and the BMI."
      ],
      "execution_count": 0,
      "outputs": [
        {
          "output_type": "display_data",
          "data": {
            "text/plain": [
              "<Figure size 864x432 with 0 Axes>"
            ]
          },
          "metadata": {
            "tags": []
          }
        },
        {
          "output_type": "display_data",
          "data": {
            "image/png": "[encoded data removed]",
            "text/plain": [
              "<Figure size 540x540 with 12 Axes>"
            ]
          },
          "metadata": {
            "tags": [],
            "needs_background": "light"
          }
        }
      ]
    },
    {
      "cell_type": "code",
      "metadata": {
        "id": "zEjmdapv742T",
        "colab_type": "code",
        "outputId": "8bf79e13-3191-4f30-b22b-b57b28ed7e80",
        "colab": {
          "base_uri": "https://localhost:8080/",
          "height": 442
        }
      },
      "source": [
        "# Create a boxplot of the columns. In the next cell, the boxplot of 'UlcerAge' will be examined.\n",
        "plt.figure(figsize=(12, 6))\n",
        "df.boxplot()\n",
        "plt.title('Comparison of Column Boxplots')\n",
        "plt.xticks(rotation=90)\n",
        "plt.show()"
      ],
      "execution_count": 0,
      "outputs": [
        {
          "output_type": "display_data",
          "data": {
            "image/png": "[encoded data removed]",
            "text/plain": [
              "<Figure size 864x432 with 1 Axes>"
            ]
          },
          "metadata": {
            "tags": [],
            "needs_background": "light"
          }
        }
      ]
    },
    {
      "cell_type": "markdown",
      "metadata": {
        "id": "FoxVoyQhP4CR",
        "colab_type": "text"
      },
      "source": [
        "Create two boxplots, the first of the 'UlcerAge' column and the second of the same column with the extremes trimmed. \n",
        "The same could be done with 'BMI' and 'CellulitisAge', however if all entries with extreme values in any of these three columns were removed \n",
        "there would be several hundred fewer entries. This would be feasible in a much larger data set."
      ]
    },
    {
      "cell_type": "code",
      "metadata": {
        "id": "ml-wvKk39wiq",
        "colab_type": "code",
        "outputId": "9b368423-f58d-409d-97c7-4de3e567a657",
        "colab": {
          "base_uri": "https://localhost:8080/",
          "height": 531
        }
      },
      "source": [
        "df[['UlcerAge']].boxplot()\n",
        "plt.show()\n",
        "std = df['UlcerAge'].std()\n",
        "mean = df['UlcerAge'].mean()\n",
        "cut_off = df['UlcerAge'].quantile(0.75) - df['UlcerAge'].quantile(0.25) # Can also do std * 3\n",
        "lower, upper = mean - cut_off, mean + cut_off\n",
        "trimmed_df = df[(df['UlcerAge'] < upper)\n",
        "                           & (df['UlcerAge'] > lower)]\n",
        "trimmed_df[['UlcerAge']].boxplot()\n",
        "plt.show()\n",
        "print(trimmed_df.shape)"
      ],
      "execution_count": 0,
      "outputs": [
        {
          "output_type": "display_data",
          "data": {
            "image/png": "[encoded data removed]",
            "text/plain": [
              "<Figure size 432x288 with 1 Axes>"
            ]
          },
          "metadata": {
            "tags": [],
            "needs_background": "light"
          }
        },
        {
          "output_type": "display_data",
          "data": {
            "image/png": "[encoded data removed]",
            "text/plain": [
              "<Figure size 432x288 with 1 Axes>"
            ]
          },
          "metadata": {
            "tags": [],
            "needs_background": "light"
          }
        },
        {
          "output_type": "stream",
          "text": [
            "(605, 15)\n"
          ],
          "name": "stdout"
        }
      ]
    },
    {
      "cell_type": "code",
      "metadata": {
        "id": "rQcjPW5o3PaI",
        "colab_type": "code",
        "colab": {}
      },
      "source": [
        "# X and y are formed, X is standardized, and training and testing sets are created.\n",
        "from sklearn.model_selection import train_test_split\n",
        "from sklearn.preprocessing import StandardScaler\n",
        "# The features and target are separated into 'X' and 'y' and 'X' is standardized\n",
        "y = df['Ulcer'].copy().values #values makes dataframe into array to correct if order changes lose column names and index\n",
        "X = df.drop(['Ulcer'], axis=1).copy().values\n",
        "SS_scaler = StandardScaler()\n",
        "X = SS_scaler.fit_transform(X)\n",
        "X_train, X_test, y_train,  y_test = train_test_split(X, y, test_size=0.2, random_state=123, shuffle=True)"
      ],
      "execution_count": 0,
      "outputs": []
    },
    {
      "cell_type": "markdown",
      "metadata": {
        "id": "S70JuRDoTbwJ",
        "colab_type": "text"
      },
      "source": [
        "The optimal number of neighbors will be determined for the K-Nearest Neighbors classifier. The K-Nearest Neighbors classifier will be instantiated and fitted. The metrics will then be determined."
      ]
    },
    {
      "cell_type": "code",
      "metadata": {
        "id": "FcBS2ca6y8kH",
        "colab_type": "code",
        "outputId": "1636a641-a61c-4a64-ac79-4057e04ac09b",
        "colab": {
          "base_uri": "https://localhost:8080/",
          "height": 35
        }
      },
      "source": [
        "# We will optomize our three classifiers and then institute voting to achieve the best results\n",
        "from sklearn.neighbors import KNeighborsClassifier\n",
        "from sklearn.linear_model import LogisticRegression\n",
        "from sklearn.tree import DecisionTreeClassifier\n",
        "from sklearn.ensemble import VotingClassifier, RandomForestClassifier\n",
        "from sklearn.metrics import precision_score, recall_score, f1_score, classification_report, confusion_matrix, mean_absolute_error, mean_squared_error, log_loss, accuracy_score\n",
        "from sklearn.model_selection import cross_val_score\n",
        "from sklearn.svm import SVC \n",
        " \n",
        "# Creating even list K for KNN.\n",
        "neighbors = list(range(2,50,2))\n",
        "# empty list that will hold cv scores\n",
        "cv_scores = [ ]\n",
        "#perform 10-fold cross-validation\n",
        "for K in neighbors:\n",
        "    knn = KNeighborsClassifier(n_neighbors = K)\n",
        "    scores = cross_val_score(knn,X_train,y_train,cv = 10,scoring =\n",
        "    \"accuracy\")\n",
        "    cv_scores.append(scores.mean())\n",
        "\n",
        "# Change to mse classification error.\n",
        "mse = [1-x for x in cv_scores]\n",
        "# determing best k\n",
        "optimal_k = neighbors[mse.index(min(mse))]\n",
        "print(\"The optimal no. of neighbors is {}.\".format(optimal_k))"
      ],
      "execution_count": 0,
      "outputs": [
        {
          "output_type": "stream",
          "text": [
            "The optimal no. of neighbors is 12.\n"
          ],
          "name": "stdout"
        }
      ]
    },
    {
      "cell_type": "code",
      "metadata": {
        "id": "BrQXXyffmPA7",
        "colab_type": "code",
        "outputId": "3c951ffc-488e-4e1b-d9eb-18e4ae4beba1",
        "colab": {
          "base_uri": "https://localhost:8080/",
          "height": 390
        }
      },
      "source": [
        "# Instantiate and fit the K-Nearest Neighbors classifier.\n",
        "clf_knn = KNeighborsClassifier(n_neighbors=10)\n",
        "clf_knn.fit(X_train, y_train)\n",
        "knn_pred = clf_knn.predict(X_test)\n",
        "\n",
        "# Compare the K-Nearest Neighbors training and test accuracies.\n",
        "knn_pred_train_Y = clf_knn.predict(X_train)\n",
        "knn_pred_test_Y = clf_knn.predict(X_test)\n",
        "knn_train_accuracy = round(accuracy_score(y_train, knn_pred_train_Y), 3)\n",
        "knn_test_accuracy = round(accuracy_score(y_test, knn_pred_test_Y), 3)\n",
        "print('K-Nearest Neighbors Training Accuracy:', knn_train_accuracy)\n",
        "print('K-Nearest Neighbors Test Accuracy:', knn_test_accuracy)\n",
        "\n",
        "# Compare the K-Nearest Neighbors training and test precision and recall.\n",
        "knn_train_precision = round(precision_score(y_train, knn_pred_train_Y), 3)\n",
        "knn_test_precision = round(precision_score(y_test, knn_pred_test_Y), 3)\n",
        "knn_train_recall = round(recall_score(y_train, knn_pred_train_Y), 3)\n",
        "knn_test_recall = round(recall_score(y_test, knn_pred_test_Y), 3)\n",
        "print('K-Nearest Neighbors Training precision: {}, Training recall: {}'.format(knn_train_precision, knn_train_recall))\n",
        "print('K-Nearest Neighbors Test precision: {}, Test recall: {}'.format(knn_test_precision, knn_test_recall))\n",
        "\n",
        "# Calculate the F1-Score of the K-Nearest Neighbors classifier.\n",
        "score_knn = f1_score(y_test, knn_pred)\n",
        "print('K-Nearest Neighbors F1-Score: {:.3f}'.format(score_knn))\n",
        "\n",
        "# Calculate the mean absolute error of the K-Nearest Neighbors classifier.\n",
        "mae_knn = mean_absolute_error(y_test, knn_pred)\n",
        "print('K-Nearest Neighbors Log Loss: {:.3f}'.format(mae_knn))\n",
        "\n",
        "# Calculate the root mean square error of the K-Nearest Neighbors classifier.\n",
        "rmse_knn = mean_squared_error(y_test, knn_pred)\n",
        "print('K-Nearest Neighbors Root Mean Absolut Error: {:.3f}'.format(rmse_knn))\n",
        "\n",
        "# Calculate the log loss of the K-Nearest Neighbors classifier.\n",
        "ll_knn = log_loss(y_test, knn_pred)\n",
        "print('K-Nearest Neighbors Log Loss: {:.3f}'.format(ll_knn))\n",
        "\n",
        "# Calculate the classification report for the K-Nearest Neighbors classifier.\n",
        "report_knn = classification_report(y_test, knn_pred)\n",
        "print('K-Nearest Neighbors Classification Report:')\n",
        "print(report_knn)\n",
        "\n",
        "# Create a confusion matrix for the K-Nearest Neighbors classifier.\n",
        "conf_mat_knn = confusion_matrix(y_test, knn_pred)\n",
        "print('K-Nearest Neighbors Confusion Matrix:')\n",
        "print(conf_mat_knn)\n"
      ],
      "execution_count": 0,
      "outputs": [
        {
          "output_type": "stream",
          "text": [
            "K-Nearest Neighbors Training Accuracy: 0.811\n",
            "K-Nearest Neighbors Test Accuracy: 0.822\n",
            "K-Nearest Neighbors Training precision: 0.683, Training recall: 0.215\n",
            "K-Nearest Neighbors Test precision: 0.375, Test recall: 0.12\n",
            "K-Nearest Neighbors F1-Score: 0.182\n",
            "K-Nearest Neighbors Log Loss: 0.178\n",
            "K-Nearest Neighbors Root Mean Absolut Error: 0.178\n",
            "K-Nearest Neighbors Log Loss: 6.135\n",
            "K-Nearest Neighbors Classification Report:\n",
            "              precision    recall  f1-score   support\n",
            "\n",
            "           0       0.85      0.96      0.90       127\n",
            "           1       0.38      0.12      0.18        25\n",
            "\n",
            "    accuracy                           0.82       152\n",
            "   macro avg       0.61      0.54      0.54       152\n",
            "weighted avg       0.77      0.82      0.78       152\n",
            "\n",
            "K-Nearest Neighbors Confusion Matrix:\n",
            "[[122   5]\n",
            " [ 22   3]]\n"
          ],
          "name": "stdout"
        }
      ]
    },
    {
      "cell_type": "code",
      "metadata": {
        "id": "psW_QqWrryxn",
        "colab_type": "code",
        "outputId": "876e89d6-88d1-40a7-abb2-68cf4f7fa22d",
        "colab": {
          "base_uri": "https://localhost:8080/",
          "height": 52
        }
      },
      "source": [
        "# Determine the K-Nearest Neighbors cross validation score.  \n",
        "def knn_scorer(clf_knn, X, y):\n",
        "  return accuracy_score(y, clf_knn.predict(X))\n",
        "# Check how the K-Nearest Neighbors classifier performs with 5 fold cross-validation.\n",
        "knn_kfold = cross_val_score(clf_knn, X, y, cv=5, scoring=knn_scorer)\n",
        "# Print the K-Nearest Neighbors mean accuracy per fold.\n",
        "print('K-Nearest Neighbors Mean Accuracy Per Fold:', knn_kfold.mean())\n",
        "# Print the K-Nearest Neighbors standard deviation per fold.\n",
        "print('K-Nearest Neighbors Standard Deviation Per Fold:', knn_kfold.std())"
      ],
      "execution_count": 0,
      "outputs": [
        {
          "output_type": "stream",
          "text": [
            "K-Nearest Neighbors Mean Accuracy Per Fold: 0.799738584872778\n",
            "K-Nearest Neighbors Standard Deviation Per Fold: 0.00304717804183953\n"
          ],
          "name": "stdout"
        }
      ]
    },
    {
      "cell_type": "markdown",
      "metadata": {
        "id": "uhpV4UXUVVSI",
        "colab_type": "text"
      },
      "source": [
        "The optimal value of C will be determined for the Logistic Regression classifier. The trade-off parameter of logistic regression that determines the strength of the regularization is called C, \n",
        "and higher values of C correspond to less regularization (where we can specify the regularization function).\n",
        "C is actually the Inverse of regularization strength(lambda) \n",
        "liblinear — Library for Large Linear Classification. It uses a coordinate descent algorithm. Coordinate descent is based on \n",
        "minimizing a multivariate function by solving univariate optimization problems in a loop. - it is included here so that one can have flexibility for small and large data sets. The Logistic Regression classifier will be instantiated and fitted. The metrics will then be determined."
      ]
    },
    {
      "cell_type": "code",
      "metadata": {
        "id": "CZBvdz13hvsv",
        "colab_type": "code",
        "outputId": "683ddff4-5211-4f74-f1ec-d2ad0a6f4ed3",
        "colab": {
          "base_uri": "https://localhost:8080/",
          "height": 195
        }
      },
      "source": [
        "C = [1, .5, .25, .1, .05, .025, .01, .005, .0025]\n",
        "l1_metrics = np.zeros((len(C), 3))\n",
        "l1_metrics[:,0] = C\n",
        " # Run a for loop over the range of C list length\n",
        "for index in range(0, len(C)):\n",
        "  # Initialize and fit Logistic Regression with the C candidate\n",
        "  logreg = LogisticRegression(penalty='l1', C=C[index], solver='liblinear')\n",
        "  logreg.fit(X_train, y_train)\n",
        "  # Predict ulcers on the testing data\n",
        "  pred_test_Y = logreg.predict(X_test)\n",
        "  # Create non-zero count and recall score columns\n",
        "  l1_metrics[index,1] = np.count_nonzero(logreg.coef_)\n",
        "  l1_metrics[index,2] = recall_score(y_test, pred_test_Y)\n",
        "\n",
        "# Name the columns and print the array as a pandas DataFrame.\n",
        "col_names = ['C','Non-Zero Coeffs','Recall']\n",
        "print(pd.DataFrame(l1_metrics, columns=col_names))"
      ],
      "execution_count": 0,
      "outputs": [
        {
          "output_type": "stream",
          "text": [
            "        C  Non-Zero Coeffs  Recall\n",
            "0  1.0000             12.0    0.56\n",
            "1  0.5000             12.0    0.56\n",
            "2  0.2500             11.0    0.52\n",
            "3  0.1000              9.0    0.44\n",
            "4  0.0500              8.0    0.16\n",
            "5  0.0250              2.0    0.00\n",
            "6  0.0100              0.0    0.00\n",
            "7  0.0050              0.0    0.00\n",
            "8  0.0025              0.0    0.00\n"
          ],
          "name": "stdout"
        }
      ]
    },
    {
      "cell_type": "code",
      "metadata": {
        "id": "tRDATxwynC9j",
        "colab_type": "code",
        "outputId": "747a5279-d642-403f-e281-b6784ee50d90",
        "colab": {
          "base_uri": "https://localhost:8080/",
          "height": 390
        }
      },
      "source": [
        "# Instantiate and fit the Logistic Regression classifier.\n",
        "clf_lr = LogisticRegression(class_weight='balanced', penalty='l1', C=0.2500, solver='liblinear', random_state=500)\n",
        "clf_lr.fit(X_train, y_train)\n",
        "lr_pred = clf_lr.predict(X_test)\n",
        "\n",
        "# Compare the Logistic Regression training and test accuracies.\n",
        "lr_pred_train_Y = clf_lr.predict(X_train)\n",
        "lr_pred_test_Y = clf_lr.predict(X_test)\n",
        "lr_train_accuracy = round(accuracy_score(y_train, lr_pred_train_Y), 3)\n",
        "lr_test_accuracy = round(accuracy_score(y_test, lr_pred_test_Y), 3)\n",
        "print('Logistic Regression Training Accuracy:', lr_train_accuracy)\n",
        "print('Logistic Regression Test Accuracy:', lr_test_accuracy)\n",
        "\n",
        "# Compare the Logistic Regression training and test precision and recall.\n",
        "lr_train_precision = round(precision_score(y_train, lr_pred_train_Y), 3)\n",
        "lr_test_precision = round(precision_score(y_test, lr_pred_test_Y), 3)\n",
        "lr_train_recall = round(recall_score(y_train, lr_pred_train_Y), 3)\n",
        "lr_test_recall = round(recall_score(y_test, lr_pred_test_Y), 3)\n",
        "print('Training precision: {}, Training recall: {}'.format(lr_train_precision, lr_train_recall))\n",
        "print('Test precision: {}, Test recall: {}'.format(lr_test_precision, lr_test_recall))\n",
        "\n",
        "# Calculate the F1-Score of the Logistic Regression classifier.\n",
        "score_lr = f1_score(y_test, lr_pred)\n",
        "print('Logistic Regression F1-Score: {:.3f}'.format(score_lr))\n",
        "\n",
        "# Calculate the mean absolute error of the Logistic Regression classifier.\n",
        "mae_lr = mean_absolute_error(y_test, lr_pred)\n",
        "print('Logistic Regression Log Loss: {:.3f}'.format(mae_lr))\n",
        "\n",
        "# Calculate the root mean square error of the Logistic Regression classifier.\n",
        "rmse_lr = mean_squared_error(y_test, lr_pred)\n",
        "print('Logistic Regression Root Mean Absolut Error: {:.3f}'.format(rmse_lr))\n",
        "\n",
        "# Calculate the log loss of the Logistic Regression classifier.\n",
        "ll_lr = log_loss(y_test, lr_pred)\n",
        "print('Logistic Regression Log Loss: {:.3f}'.format(ll_lr))\n",
        "\n",
        "# Calculate the classification report for the Logistic Regression classifier.\n",
        "report_lr = classification_report(y_test, lr_pred)\n",
        "print('Logistic Regression Classification Report:')\n",
        "print(report_lr)\n",
        "\n",
        "# Create a confusion matrix for the Logistic Regression classifier.\n",
        "conf_mat_lr = confusion_matrix(y_test, lr_pred)\n",
        "print('Logistic Regression Confusion Matrix:')\n",
        "print(conf_mat_lr)"
      ],
      "execution_count": 0,
      "outputs": [
        {
          "output_type": "stream",
          "text": [
            "Logistic Regression Training Accuracy: 0.937\n",
            "Logistic Regression Test Accuracy: 0.914\n",
            "Training precision: 0.838, Training recall: 0.877\n",
            "Test precision: 0.714, Test recall: 0.8\n",
            "Logistic Regression F1-Score: 0.755\n",
            "Logistic Regression Log Loss: 0.086\n",
            "Logistic Regression Root Mean Absolut Error: 0.086\n",
            "Logistic Regression Log Loss: 2.954\n",
            "Logistic Regression Classification Report:\n",
            "              precision    recall  f1-score   support\n",
            "\n",
            "           0       0.96      0.94      0.95       127\n",
            "           1       0.71      0.80      0.75        25\n",
            "\n",
            "    accuracy                           0.91       152\n",
            "   macro avg       0.84      0.87      0.85       152\n",
            "weighted avg       0.92      0.91      0.92       152\n",
            "\n",
            "Logistic Regression Confusion Matrix:\n",
            "[[119   8]\n",
            " [  5  20]]\n"
          ],
          "name": "stdout"
        }
      ]
    },
    {
      "cell_type": "code",
      "metadata": {
        "id": "KVw7hqWlr9-z",
        "colab_type": "code",
        "outputId": "9dfe3e00-964e-4b97-bb64-887320571727",
        "colab": {
          "base_uri": "https://localhost:8080/",
          "height": 52
        }
      },
      "source": [
        "# Determine the Logistic Regression cross validation score.  \n",
        "def lr_scorer(clf_lr, X, y):\n",
        "  return accuracy_score(y, clf_lr.predict(X))\n",
        "# Check how the Logistic Regression classifier performs with 5 fold cross-validation.\n",
        "lr_kfold = cross_val_score(clf_lr, X, y, cv=5, scoring=lr_scorer)\n",
        "# Print the Logistic Regression mean accuracy per fold.\n",
        "print('Logistic Regression Mean Accuracy Per Fold:', lr_kfold.mean())\n",
        "# Print the Logistic Regression standard deviation per fold.\n",
        "print('Logistic Regression Standard Deviation Per Fold:', lr_kfold.std())"
      ],
      "execution_count": 0,
      "outputs": [
        {
          "output_type": "stream",
          "text": [
            "Logistic Regression Mean Accuracy Per Fold: 0.91313175322412\n",
            "Logistic Regression Standard Deviation Per Fold: 0.03510902806716738\n"
          ],
          "name": "stdout"
        }
      ]
    },
    {
      "cell_type": "markdown",
      "metadata": {
        "id": "fySwagdMVe6l",
        "colab_type": "text"
      },
      "source": [
        "The maximal depth will be determined for the Decision Tree classifier. The Decision Tree classifier will be instantiated and fitted. The metrics will then be determined."
      ]
    },
    {
      "cell_type": "code",
      "metadata": {
        "id": "eKv7YMpkY_2f",
        "colab_type": "code",
        "outputId": "cacc58c5-9b41-4cfb-fe2c-12d6d699f9d6",
        "colab": {
          "base_uri": "https://localhost:8080/",
          "height": 248
        }
      },
      "source": [
        "depth_list = list(range(2,14))\n",
        "depth_tuning = np.zeros((len(depth_list), 2))\n",
        "depth_tuning[:,0] = depth_list\n",
        "\n",
        "# Run a for loop over the range of depth list length.\n",
        "for index in range(0, len(depth_list)):\n",
        "  # Initialize and fit decision tree with the `max_depth` candidate.\n",
        "  decide = DecisionTreeClassifier(max_depth=depth_list[index])  \n",
        "  decide.fit(X_train, y_train)\n",
        "  # Predict ulcers on the testing data.\n",
        "  ex_pred_test_Y = decide.predict(X_test)\n",
        "  # Calculate the recall score \n",
        "  depth_tuning[index,1] = recall_score(y_test, ex_pred_test_Y)\n",
        "\n",
        "# Name the columns and print the array as a pandas DataFrame.\n",
        "col_names = ['Max_Depth','Recall']\n",
        "print(pd.DataFrame(depth_tuning, columns=col_names))\n"
      ],
      "execution_count": 0,
      "outputs": [
        {
          "output_type": "stream",
          "text": [
            "    Max_Depth  Recall\n",
            "0         2.0    0.40\n",
            "1         3.0    0.16\n",
            "2         4.0    0.36\n",
            "3         5.0    0.40\n",
            "4         6.0    0.48\n",
            "5         7.0    0.44\n",
            "6         8.0    0.56\n",
            "7         9.0    0.56\n",
            "8        10.0    0.48\n",
            "9        11.0    0.48\n",
            "10       12.0    0.48\n",
            "11       13.0    0.48\n"
          ],
          "name": "stdout"
        }
      ]
    },
    {
      "cell_type": "code",
      "metadata": {
        "id": "YhXQ8MgsnFl_",
        "colab_type": "code",
        "outputId": "f45821d7-b57a-404d-8b98-fc92bada497b",
        "colab": {
          "base_uri": "https://localhost:8080/",
          "height": 390
        }
      },
      "source": [
        "# Instantiate and fit the Decision Tree classifier.\n",
        "clf_dt = DecisionTreeClassifier(min_samples_leaf=3, min_samples_split=4, max_depth=11, random_state=500)\n",
        "clf_dt.fit(X_train, y_train)\n",
        "dt_pred = clf_dt.predict(X_test)\n",
        "\n",
        "# Compare the Decision Tree training and test accuracies.\n",
        "dt_pred_train_Y = clf_dt.predict(X_train)\n",
        "dt_pred_test_Y = clf_dt.predict(X_test)\n",
        "dt_train_accuracy = accuracy_score(y_train, dt_pred_train_Y)\n",
        "dt_test_accuracy = accuracy_score(y_test, dt_pred_test_Y)\n",
        "print('Decision Tree Training Accuracy:', dt_train_accuracy)\n",
        "print('Decision Tree Test Accuracy:', dt_test_accuracy)\n",
        "\n",
        "# Compare the Decision Tree training and test precision and recall.\n",
        "dt_train_precision = round(precision_score(y_train, dt_pred_train_Y), 3)\n",
        "dt_test_precision = round(precision_score(y_test, dt_pred_test_Y), 3)\n",
        "dt_train_recall = round(recall_score(y_train, dt_pred_train_Y), 3)\n",
        "dt_test_recall = round(recall_score(y_test, dt_pred_test_Y), 3)\n",
        "print('Decision Tree Training precision: {}, Training recall: {}'.format(dt_train_precision, dt_train_recall))\n",
        "print('Decision Tree Test precision: {}, Test recall: {}'.format(dt_test_precision, dt_test_recall))\n",
        "\n",
        "# Calculate the F1-Score of the Decision Tree classifier.\n",
        "score_dt = f1_score(y_test, dt_pred)\n",
        "print('Decision Tree F1-Score: {:.3f}'.format(score_dt))\n",
        "\n",
        "# Calculate the mean absolute error of the Decision Tree classifier.\n",
        "mae_dt = mean_absolute_error(y_test, dt_pred)\n",
        "print('Decision Tree Log Loss: {:.3f}'.format(mae_dt))\n",
        "\n",
        "# Calculate the root mean square error of the Decision Tree classifier.\n",
        "rmse_dt = mean_squared_error(y_test, dt_pred)\n",
        "print('Decision Tree Root Mean Absolute Error: {:.3f}'.format(rmse_dt))\n",
        "\n",
        "# Calculate the log loss of the Decision Tree classifier.\n",
        "ll_dt = log_loss(y_test, dt_pred)\n",
        "print('Decision Tree Log Loss: {:.3f}'.format(ll_dt))\n",
        "\n",
        "# Calculate the classification report for the Decision Tree classifier.\n",
        "report_dt = classification_report(y_test, dt_pred)\n",
        "print('Decision Tree Classification Report:')\n",
        "print(report_dt)\n",
        "\n",
        "# Create a confusion matrix for the Decision Tree classifier.\n",
        "conf_mat_dt = confusion_matrix(y_test, dt_pred)\n",
        "print('Decision Tree Confusion Matrix:')\n",
        "print(conf_mat_dt)\n"
      ],
      "execution_count": 0,
      "outputs": [
        {
          "output_type": "stream",
          "text": [
            "Decision Tree Training Accuracy: 0.9489291598023064\n",
            "Decision Tree Test Accuracy: 0.8618421052631579\n",
            "Decision Tree Training precision: 0.884, Training recall: 0.877\n",
            "Decision Tree Test precision: 0.577, Test recall: 0.6\n",
            "Decision Tree F1-Score: 0.588\n",
            "Decision Tree Log Loss: 0.138\n",
            "Decision Tree Root Mean Absolute Error: 0.138\n",
            "Decision Tree Log Loss: 4.772\n",
            "Decision Tree Classification Report:\n",
            "              precision    recall  f1-score   support\n",
            "\n",
            "           0       0.92      0.91      0.92       127\n",
            "           1       0.58      0.60      0.59        25\n",
            "\n",
            "    accuracy                           0.86       152\n",
            "   macro avg       0.75      0.76      0.75       152\n",
            "weighted avg       0.86      0.86      0.86       152\n",
            "\n",
            "Decision Tree Confusion Matrix:\n",
            "[[116  11]\n",
            " [ 10  15]]\n"
          ],
          "name": "stdout"
        }
      ]
    },
    {
      "cell_type": "code",
      "metadata": {
        "id": "lvE0dNntsKZF",
        "colab_type": "code",
        "outputId": "cb7d6903-6179-446f-a16d-9c7281ad147b",
        "colab": {
          "base_uri": "https://localhost:8080/",
          "height": 52
        }
      },
      "source": [
        "# Determine the Decision Tree cross validation score.  \n",
        "def dt_scorer(clf_dt, X, y):\n",
        "  return accuracy_score(y, clf_dt.predict(X))\n",
        "# Check how the Decision Tree classifier performs with 5 fold cross-validation.\n",
        "dt_kfold = cross_val_score(clf_dt, X, y, cv=5, scoring=dt_scorer)\n",
        "# Print the Decision Tree mean accuracy per fold.\n",
        "print('Decision Tree Mean Accuracy Per Fold:', dt_kfold.mean())\n",
        "# Print the Decision Tree standard deviation per fold.\n",
        "print('Decision Tree Standard Deviation Per Fold:', dt_kfold.std())"
      ],
      "execution_count": 0,
      "outputs": [
        {
          "output_type": "stream",
          "text": [
            "Mean Accuracy Per Fold: 0.8300801673056813\n",
            "Standard Deviation Per Fold: 0.031064947054359266\n"
          ],
          "name": "stdout"
        }
      ]
    },
    {
      "cell_type": "markdown",
      "metadata": {
        "id": "I_0RzIdtVirt",
        "colab_type": "text"
      },
      "source": [
        "The Support Vector Machine classifier will be instantiated and fitted. The metrics will then be determined.  Support Vector Machine (SVM) is a supervised machine learning algorithm which can be used for both classification or regression challenges. \n",
        " However,  it is mostly used in classification problems. In the SVM algorithm, we plot each data item as a point in n-dimensional space \n",
        " (where n is number of features you have) with the value of each feature being the value of a particular coordinate. \n",
        " Then, we perform classification by finding the hyper-plane that differentiates the two classes very well. Support Vectors are simply the co-ordinates of individual observation. \n",
        "The SVM classifier is a frontier which best segregates the two classes (hyper-plane/ line)."
      ]
    },
    {
      "cell_type": "code",
      "metadata": {
        "id": "CSlyu2hH_jVF",
        "colab_type": "code",
        "outputId": "7179dd25-66f9-4800-c70e-8599f64b5b2f",
        "colab": {
          "base_uri": "https://localhost:8080/",
          "height": 390
        }
      },
      "source": [
        "# Instantiate and fit the Support Vector Machine classifier.\n",
        "clf_svm = SVC(probability=True, class_weight='balanced', random_state=500)\n",
        "clf_svm.fit(X_train, y_train)\n",
        "svm_pred = clf_svm.predict(X_test)\n",
        "\n",
        "# Compare the Support Vector Machine training and test accuracies.\n",
        "svm_pred_train_Y = clf_svm.predict(X_train)\n",
        "svm_pred_test_Y = clf_svm.predict(X_test)\n",
        "svm_train_accuracy = accuracy_score(y_train, svm_pred_train_Y)\n",
        "svm_test_accuracy = accuracy_score(y_test, svm_pred_test_Y)\n",
        "print('Support Vector Machine Training Accuracy:', svm_train_accuracy)\n",
        "print('Support Vector Machine Test Accuracy:', svm_test_accuracy)\n",
        "\n",
        "# Compare the Support Vector Machine training and test precision and recall.\n",
        "svm_train_precision = round(precision_score(y_train, svm_pred_train_Y), 3)\n",
        "svm_test_precision = round(precision_score(y_test, svm_pred_test_Y), 3)\n",
        "svm_train_recall = round(recall_score(y_train, svm_pred_train_Y), 3)\n",
        "svm_test_recall = round(recall_score(y_test, svm_pred_test_Y), 3)\n",
        "print('Support Vector Machine Training precision: {}, Training recall: {}'.format(svm_train_precision, svm_train_recall))\n",
        "print('Support Vector Machine Test precision: {}, Test recall: {}'.format(svm_test_precision, svm_test_recall))\n",
        "\n",
        "# Calculate the F1-Score of the Support Vector Machine classifier.\n",
        "score_svm = f1_score(y_test, svm_pred)\n",
        "print('Support Vector Machine F1-Score: {:.3f}'.format(score_svm))\n",
        "\n",
        "# Calculate the mean absolute error of the Support Vector Machine classifier.\n",
        "mae_svm = mean_absolute_error(y_test, svm_pred)\n",
        "print('Support Vector Machine Log Loss: {:.3f}'.format(mae_svm))\n",
        "\n",
        "# Calculate the root mean square error of the Support Vector Machine classifier.\n",
        "rmse_svm = mean_squared_error(y_test, svm_pred)\n",
        "print('Support Vector Machine Root Mean Absolute Error: {:.3f}'.format(rmse_svm))\n",
        "\n",
        "# Calculate the log loss of the Support Vector Machine classifier.\n",
        "ll_svm = log_loss(y_test, svm_pred)\n",
        "print('Support Vector Machine Log Loss: {:.3f}'.format(ll_svm))\n",
        "\n",
        "# Calculate the classification report for the Support Vector Machine classifier.\n",
        "report_svm = classification_report(y_test, svm_pred)\n",
        "print('Support Vector Machine Classification Report:')\n",
        "print(report_svm)\n",
        "\n",
        "# Create a confusion matrix for the Support Vector Machine classifier.\n",
        "conf_mat_svm = confusion_matrix(y_test, svm_pred)\n",
        "print('Support Vector Machine Confusion Matrix:')\n",
        "print(conf_mat_svm)"
      ],
      "execution_count": 0,
      "outputs": [
        {
          "output_type": "stream",
          "text": [
            "Support Vector Machine Training Accuracy: 0.8121911037891268\n",
            "Support Vector Machine Test Accuracy: 0.7039473684210527\n",
            "Support Vector Machine Training precision: 0.543, Training recall: 0.777\n",
            "Support Vector Machine Test precision: 0.308, Test recall: 0.64\n",
            "Support Vector Machine F1-Score: 0.416\n",
            "Support Vector Machine Log Loss: 0.296\n",
            "Support Vector Machine Root Mean Absolute Error: 0.296\n",
            "Support Vector Machine Log Loss: 10.225\n",
            "Support Vector Machine Classification Report:\n",
            "              precision    recall  f1-score   support\n",
            "\n",
            "           0       0.91      0.72      0.80       127\n",
            "           1       0.31      0.64      0.42        25\n",
            "\n",
            "    accuracy                           0.70       152\n",
            "   macro avg       0.61      0.68      0.61       152\n",
            "weighted avg       0.81      0.70      0.74       152\n",
            "\n",
            "Support Vector Machine Confusion Matrix:\n",
            "[[91 36]\n",
            " [ 9 16]]\n"
          ],
          "name": "stdout"
        }
      ]
    },
    {
      "cell_type": "code",
      "metadata": {
        "id": "8rhLjhiEsOf3",
        "colab_type": "code",
        "outputId": "531025be-ff37-438d-deef-f9b1bb02ec25",
        "colab": {
          "base_uri": "https://localhost:8080/",
          "height": 52
        }
      },
      "source": [
        "# Determine the Support Vector Machine cross validation score.  \n",
        "def svm_scorer(clf_svm, X, y):\n",
        "  return accuracy_score(y, clf_svm.predict(X))\n",
        "# Check how the Support Vector Machine performs with 5 fold cross-validation\n",
        "svm_kfold = cross_val_score(clf_svm, X, y, cv=5, scoring=svm_scorer)\n",
        "# Print the Support Vector Machine mean accuracy per fold\n",
        "print('Support Vector Machine Mean Accuracy Per Fold:', svm_kfold.mean())\n",
        "# Print the standard deviation per fold\n",
        "print('Support Vector Machine Standard Deviation Per Fold:', svm_kfold.std())"
      ],
      "execution_count": 0,
      "outputs": [
        {
          "output_type": "stream",
          "text": [
            "Support Vector Machine Mean Accuracy Per Fold: 0.7537120948065528\n",
            "Support Vector Machine Standard Deviation Per Fold: 0.03985630054247557\n"
          ],
          "name": "stdout"
        }
      ]
    },
    {
      "cell_type": "markdown",
      "metadata": {
        "id": "mVy7EDubVl9G",
        "colab_type": "text"
      },
      "source": [
        "The optimal number of neighbors will be determined for the voting classifier. The voting classifier will be instantiated and fitted. The metrics will then be determined."
      ]
    },
    {
      "cell_type": "code",
      "metadata": {
        "id": "k5fbn2FyfULb",
        "colab_type": "code",
        "outputId": "c8d1f877-d1c8-4111-9cc6-6c161659a0d0",
        "colab": {
          "base_uri": "https://localhost:8080/",
          "height": 319
        }
      },
      "source": [
        " # Create and fit the voting classifier.\n",
        "clf_vote = VotingClassifier(\n",
        "    estimators=[('knn', clf_knn), ('lr',clf_lr), ('dt', clf_dt), ('svm', clf_svm)]\n",
        ")\n",
        "clf_vote.fit(X_train, y_train)\n",
        "pred_vote = clf_vote.predict(X_test)\n",
        "\n",
        "# Calculate the F1-Score of the voting classifier.\n",
        "score_vote = f1_score(y_test, pred_vote)\n",
        "print('Voting Classifier F1-Score: {:.3f}'.format(score_vote))\n",
        "\n",
        "# Calculate the mean absolute error of the voting classifier.\n",
        "mae_vote = mean_absolute_error(y_test, pred_vote)\n",
        "print('Voting Classifier Log Loss: {:.3f}'.format(mae_vote))\n",
        "\n",
        "# Calculate the root mean square error of the voting classifier.\n",
        "rmse_vote = mean_squared_error(y_test, pred_vote)\n",
        "print('Voting Classifier Root Mean Absolute Error: {:.3f}'.format(rmse_vote))\n",
        "\n",
        "# Calculate the log loss of the voting classifier.\n",
        "ll_vote = log_loss(y_test, pred_vote)\n",
        "print('Voting Classifier Log Loss: {:.3f}'.format(ll_vote))\n",
        "\n",
        "# Calculate the classification report for the voting classifier.\n",
        "report_vote = classification_report(y_test, pred_vote)\n",
        "print('Voting Classifier Classification Report:')\n",
        "print(report_vote)\n",
        "\n",
        "# Create a confusion matrix for the voting classifier.\n",
        "conf_mat_vote = confusion_matrix(y_test, pred_vote)\n",
        "print('Voting Classifier Confusion Matrix:')\n",
        "print(conf_mat_vote)"
      ],
      "execution_count": 0,
      "outputs": [
        {
          "output_type": "stream",
          "text": [
            "Voting Classifier F1-Score: 0.524\n",
            "Voting Classifier Log Loss: 0.132\n",
            "Voting Classifier Root Mean Absolute Error: 0.132\n",
            "Voting Classifier Log Loss: 4.545\n",
            "Voting Classifier Classification Report:\n",
            "              precision    recall  f1-score   support\n",
            "\n",
            "           0       0.90      0.95      0.92       127\n",
            "           1       0.65      0.44      0.52        25\n",
            "\n",
            "    accuracy                           0.87       152\n",
            "   macro avg       0.77      0.70      0.72       152\n",
            "weighted avg       0.86      0.87      0.86       152\n",
            "\n",
            "Voting Classifier Confusion Matrix:\n",
            "[[121   6]\n",
            " [ 14  11]]\n"
          ],
          "name": "stdout"
        }
      ]
    },
    {
      "cell_type": "code",
      "metadata": {
        "id": "aFN5xqBatTRF",
        "colab_type": "code",
        "outputId": "0038823a-1ae5-42f7-d612-b35a9da29067",
        "colab": {
          "base_uri": "https://localhost:8080/",
          "height": 52
        }
      },
      "source": [
        "# Determine the voting cross validation score.  \n",
        "def vote_scorer(clf_vote, X, y):\n",
        "  return accuracy_score(y, clf_vote.predict(X))\n",
        "# Check how the voting model performs with 5 fold cross-validation.\n",
        "vote_kfold = cross_val_score(clf_vote, X, y, cv=5, scoring=vote_scorer)\n",
        "# Print the mean voting accuracy per fold.\n",
        "print('Voting Accuracy Per Fold:', vote_kfold.mean())\n",
        "# Print the voting standard deviation per fold.\n",
        "print('Voting Standard Deviation Per Fold:', vote_kfold.std())"
      ],
      "execution_count": 0,
      "outputs": [
        {
          "output_type": "stream",
          "text": [
            "Voting Accuracy Per Fold: 0.8472028581387242\n",
            "Voting Standard Deviation Per Fold: 0.019462059223270947\n"
          ],
          "name": "stdout"
        }
      ]
    },
    {
      "cell_type": "markdown",
      "metadata": {
        "id": "SayBjlbJVpIB",
        "colab_type": "text"
      },
      "source": [
        "The Random Forest classifier is another ensemble classifier. It will be instantiated and fitted. The metrics will then be determined."
      ]
    },
    {
      "cell_type": "code",
      "metadata": {
        "id": "3Jq5pUxnBW_o",
        "colab_type": "code",
        "outputId": "31e4e4e2-e3a8-4181-c545-d16c91cce7e1",
        "colab": {
          "base_uri": "https://localhost:8080/",
          "height": 390
        }
      },
      "source": [
        "# Instantiate and fit the Random Forest classifier.\n",
        "clf_rf = RandomForestClassifier(n_estimators=15, max_features=10, oob_score=10 , max_depth=15 ,min_samples_split=4 , min_samples_leaf=4 , class_weight= ('balanced') )  \n",
        "clf_rf.fit(X_train, y_train)\n",
        "rf_pred = clf_rf.predict(X_test)\n",
        "\n",
        "# Compare the Random Forest training and test accuracies.\n",
        "rf_pred_train_Y = clf_rf.predict(X_train)\n",
        "rf_pred_test_Y = clf_rf.predict(X_test)\n",
        "rf_train_accuracy = accuracy_score(y_train, rf_pred_train_Y)\n",
        "rf_test_accuracy = accuracy_score(y_test, rf_pred_test_Y)\n",
        "print('Random Forest Training Accuracy:', rf_train_accuracy)\n",
        "print('Random Forest Test Accuracy:', rf_test_accuracy)\n",
        "\n",
        "# Compare the Random Forest training and test precision and recall.\n",
        "rf_train_precision = round(precision_score(y_train, rf_pred_train_Y), 4)\n",
        "rf_test_precision = round(precision_score(y_test, rf_pred_test_Y), 4)\n",
        "rf_train_recall = round(recall_score(y_train, rf_pred_train_Y), 4)\n",
        "rf_test_recall = round(recall_score(y_test, rf_pred_test_Y), 4)\n",
        "print('Random Forest Training precision: {}, Training recall: {}'.format(rf_train_precision, dt_train_recall))\n",
        "print('Random Forest Test precision: {}, Test recall: {}'.format(rf_test_precision, dt_test_recall))\n",
        "\n",
        "# Calculate the F1-Score of the Random Forest classifier.\n",
        "score_rf = f1_score(y_test, rf_pred)\n",
        "print('Random Forest F1-Score: {:.3f}'.format(score_rf))\n",
        "\n",
        "# Calculate the mean absolute error of the Random Forest classifier.\n",
        "mae_rf = mean_absolute_error(y_test, rf_pred)\n",
        "print('Random Forest Log Loss: {:.3f}'.format(mae_rf))\n",
        "\n",
        "# Calculate the root mean square error of the Random Forest classifier.\n",
        "rmse_rf = mean_squared_error(y_test, rf_pred)\n",
        "print('Random Forest Root Mean Absolute Error: {:.3f}'.format(rmse_rf))\n",
        "\n",
        "# Calculate the log loss of the Random Forest classifier.\n",
        "ll_rf = log_loss(y_test, rf_pred)\n",
        "print('Random Forest Log Loss: {:.3f}'.format(ll_rf))\n",
        "\n",
        "# Calculate the classification report for the Random Forest classifier.\n",
        "report_rf = classification_report(y_test, rf_pred)\n",
        "print('Random Forest Classification Report:')\n",
        "print(report_rf)\n",
        "\n",
        "# Create a confusion matrix for the Random Forest classifier.\n",
        "conf_mat_rf = confusion_matrix(y_test, rf_pred)\n",
        "print('Random Forest Confusion Matrix:')\n",
        "print(conf_mat_rf)"
      ],
      "execution_count": 0,
      "outputs": [
        {
          "output_type": "stream",
          "text": [
            "Random Forest Training Accuracy: 0.9522240527182867\n",
            "Random Forest Test Accuracy: 0.8421052631578947\n",
            "Random Forest Training precision: 0.8741, Training recall: 0.8769\n",
            "Random Forest Test precision: 0.52, Test recall: 0.6\n",
            "Random Forest F1-Score: 0.520\n",
            "Random Forest Log Loss: 0.158\n",
            "Random Forest Root Mean Absolute Error: 0.158\n",
            "Random Forest Log Loss: 5.454\n",
            "Random Forest Classification Report:\n",
            "              precision    recall  f1-score   support\n",
            "\n",
            "           0       0.91      0.91      0.91       127\n",
            "           1       0.52      0.52      0.52        25\n",
            "\n",
            "    accuracy                           0.84       152\n",
            "   macro avg       0.71      0.71      0.71       152\n",
            "weighted avg       0.84      0.84      0.84       152\n",
            "\n",
            "Random Forest Confusion Matrix:\n",
            "[[115  12]\n",
            " [ 12  13]]\n"
          ],
          "name": "stdout"
        }
      ]
    },
    {
      "cell_type": "code",
      "metadata": {
        "id": "ieinzB6cGcRB",
        "colab_type": "code",
        "outputId": "d13060d6-6ac3-4fad-dbef-7ce0257c6619",
        "colab": {
          "base_uri": "https://localhost:8080/",
          "height": 195
        }
      },
      "source": [
        "# Determine the Random Forest cross validation score.  \n",
        "def rf_scorer(clf_rf, X, y):\n",
        "  return accuracy_score(y, clf_rf.predict(X))\n",
        "# Check how the Random Forest model performs with 5 fold cross-validation.\n",
        "rf_kfold = cross_val_score(clf_rf, X, y, cv=5, scoring=rf_scorer)\n",
        "# Print the Random Forest mean accuracy per fold.\n",
        "print('Random Forest Mean Accuracy Per Fold:', rf_kfold.mean())\n",
        "# Print the Random Forest standard deviation per fold.\n",
        "print('Random Forest Standard Deviation Per Fold:', rf_kfold.std())"
      ],
      "execution_count": 0,
      "outputs": [
        {
          "output_type": "stream",
          "text": [
            "Random Forest Mean Accuracy Per Fold: 0.8524311606831649\n",
            "Random Forest Standard Deviation Per Fold: 0.019824660340189728\n"
          ],
          "name": "stdout"
        },
        {
          "output_type": "stream",
          "text": [
            "/usr/local/lib/python3.6/dist-packages/sklearn/ensemble/_forest.py:523: UserWarning: Some inputs do not have OOB scores. This probably means too few trees were used to compute any reliable oob estimates.\n",
            "  warn(\"Some inputs do not have OOB scores. \"\n",
            "/usr/local/lib/python3.6/dist-packages/sklearn/ensemble/_forest.py:528: RuntimeWarning: invalid value encountered in true_divide\n",
            "  predictions[k].sum(axis=1)[:, np.newaxis])\n",
            "/usr/local/lib/python3.6/dist-packages/sklearn/ensemble/_forest.py:523: UserWarning: Some inputs do not have OOB scores. This probably means too few trees were used to compute any reliable oob estimates.\n",
            "  warn(\"Some inputs do not have OOB scores. \"\n",
            "/usr/local/lib/python3.6/dist-packages/sklearn/ensemble/_forest.py:528: RuntimeWarning: invalid value encountered in true_divide\n",
            "  predictions[k].sum(axis=1)[:, np.newaxis])\n"
          ],
          "name": "stderr"
        }
      ]
    },
    {
      "cell_type": "markdown",
      "metadata": {
        "id": "5yxZz4U4jX_M",
        "colab_type": "text"
      },
      "source": [
        "The following table contains a summary of the metrics. "
      ]
    },
    {
      "cell_type": "code",
      "metadata": {
        "id": "0GBl--RoOL9T",
        "colab_type": "code",
        "outputId": "21e653c7-d37d-47ca-9b18-7f3e6b96752d",
        "colab": {
          "base_uri": "https://localhost:8080/",
          "height": 338
        }
      },
      "source": [
        "print('Summary of Classifier Results:')\n",
        "data = {'Classifier':['K-Nearest Neighbors', 'Logistic Regression', 'Decision Tree', 'Support Vector Machine', 'Voting', 'Random Forest'],\n",
        "        'Training Accuracy':[knn_train_accuracy, lr_train_accuracy, dt_train_accuracy, svm_train_accuracy, '', rf_train_accuracy], \n",
        "        'Test Accuracy':[knn_test_accuracy, lr_test_accuracy, dt_test_accuracy, svm_test_accuracy, '', rf_test_accuracy], \n",
        "        'Training Precision':[knn_train_precision, lr_train_precision, dt_train_precision, svm_train_precision, '', rf_train_precision], \n",
        "        'Training Recall':[knn_train_recall, lr_train_recall, dt_train_recall, svm_train_recall, '', rf_train_recall], \n",
        "        'Test Precision':[knn_test_precision, lr_test_precision, dt_test_precision, svm_test_precision, '', rf_test_precision], \n",
        "        'Test Recall':[knn_test_recall, lr_test_recall, dt_test_recall, svm_test_recall, '', rf_test_recall], \n",
        "        'F1-Score':[score_knn, score_lr, score_dt, score_svm, score_vote, score_rf], \n",
        "        'Mean Absolute Error':[mae_knn, mae_lr, mae_dt, mae_svm, mae_vote, mae_rf], \n",
        "        'Root Mean Square Error':[rmse_knn, rmse_lr, rmse_dt, rmse_svm, rmse_vote, rmse_rf], \n",
        "        'Log Loss':[ll_knn, ll_lr, ll_dt, ll_svm, ll_vote, ll_rf], \n",
        "        'Cross Validation Mean Accuracy':[knn_kfold.mean(), lr_kfold.mean(), dt_kfold.mean(), svm_kfold.mean(), vote_kfold.mean(), rf_kfold.mean()],\n",
        "        'Cross Validation Standard Deviation':[knn_kfold.std(), lr_kfold.std(), dt_kfold.std(), svm_kfold.std(), vote_kfold.std(), rf_kfold.std()]}\n",
        "summary = pd.DataFrame(data)\n",
        "summary.set_index('Classifier')"
      ],
      "execution_count": 0,
      "outputs": [
        {
          "output_type": "stream",
          "text": [
            "Summary of Classifier Results:\n"
          ],
          "name": "stdout"
        },
        {
          "output_type": "execute_result",
          "data": {
            "text/html": [
              "<div>\n",
              "<style scoped>\n",
              "    .dataframe tbody tr th:only-of-type {\n",
              "        vertical-align: middle;\n",
              "    }\n",
              "\n",
              "    .dataframe tbody tr th {\n",
              "        vertical-align: top;\n",
              "    }\n",
              "\n",
              "    .dataframe thead th {\n",
              "        text-align: right;\n",
              "    }\n",
              "</style>\n",
              "<table border=\"1\" class=\"dataframe\">\n",
              "  <thead>\n",
              "    <tr style=\"text-align: right;\">\n",
              "      <th></th>\n",
              "      <th>Training Accuracy</th>\n",
              "      <th>Test Accuracy</th>\n",
              "      <th>Training Precision</th>\n",
              "      <th>Training Recall</th>\n",
              "      <th>Test Precision</th>\n",
              "      <th>Test Recall</th>\n",
              "      <th>F1-Score</th>\n",
              "      <th>Mean Absolute Error</th>\n",
              "      <th>Root Mean Square Error</th>\n",
              "      <th>Log Loss</th>\n",
              "      <th>Cross Validation Mean Accuracy</th>\n",
              "      <th>Cross Validation Standard Deviation</th>\n",
              "    </tr>\n",
              "    <tr>\n",
              "      <th>Classifier</th>\n",
              "      <th></th>\n",
              "      <th></th>\n",
              "      <th></th>\n",
              "      <th></th>\n",
              "      <th></th>\n",
              "      <th></th>\n",
              "      <th></th>\n",
              "      <th></th>\n",
              "      <th></th>\n",
              "      <th></th>\n",
              "      <th></th>\n",
              "      <th></th>\n",
              "    </tr>\n",
              "  </thead>\n",
              "  <tbody>\n",
              "    <tr>\n",
              "      <th>K-Nearest Neighbors</th>\n",
              "      <td>0.810544</td>\n",
              "      <td>0.822368</td>\n",
              "      <td>0.6829</td>\n",
              "      <td>0.2154</td>\n",
              "      <td>0.375</td>\n",
              "      <td>0.12</td>\n",
              "      <td>0.181818</td>\n",
              "      <td>0.177632</td>\n",
              "      <td>0.177632</td>\n",
              "      <td>6.135204</td>\n",
              "      <td>0.799739</td>\n",
              "      <td>0.003047</td>\n",
              "    </tr>\n",
              "    <tr>\n",
              "      <th>Logistic Regression</th>\n",
              "      <td>0.937397</td>\n",
              "      <td>0.914474</td>\n",
              "      <td>0.8382</td>\n",
              "      <td>0.8769</td>\n",
              "      <td>0.7143</td>\n",
              "      <td>0.8</td>\n",
              "      <td>0.754717</td>\n",
              "      <td>0.085526</td>\n",
              "      <td>0.085526</td>\n",
              "      <td>2.954016</td>\n",
              "      <td>0.913132</td>\n",
              "      <td>0.035109</td>\n",
              "    </tr>\n",
              "    <tr>\n",
              "      <th>Decision Tree</th>\n",
              "      <td>0.948929</td>\n",
              "      <td>0.861842</td>\n",
              "      <td>0.8837</td>\n",
              "      <td>0.8769</td>\n",
              "      <td>0.5769</td>\n",
              "      <td>0.6</td>\n",
              "      <td>0.588235</td>\n",
              "      <td>0.138158</td>\n",
              "      <td>0.138158</td>\n",
              "      <td>4.771862</td>\n",
              "      <td>0.830080</td>\n",
              "      <td>0.031065</td>\n",
              "    </tr>\n",
              "    <tr>\n",
              "      <th>Support Vector Machine</th>\n",
              "      <td>0.812191</td>\n",
              "      <td>0.703947</td>\n",
              "      <td>0.543</td>\n",
              "      <td>0.7769</td>\n",
              "      <td>0.3077</td>\n",
              "      <td>0.64</td>\n",
              "      <td>0.415584</td>\n",
              "      <td>0.296053</td>\n",
              "      <td>0.296053</td>\n",
              "      <td>10.225485</td>\n",
              "      <td>0.753712</td>\n",
              "      <td>0.039856</td>\n",
              "    </tr>\n",
              "    <tr>\n",
              "      <th>Voting</th>\n",
              "      <td></td>\n",
              "      <td></td>\n",
              "      <td></td>\n",
              "      <td></td>\n",
              "      <td></td>\n",
              "      <td></td>\n",
              "      <td>0.523810</td>\n",
              "      <td>0.131579</td>\n",
              "      <td>0.131579</td>\n",
              "      <td>4.544607</td>\n",
              "      <td>0.847203</td>\n",
              "      <td>0.019462</td>\n",
              "    </tr>\n",
              "    <tr>\n",
              "      <th>Random Forest</th>\n",
              "      <td>0.952224</td>\n",
              "      <td>0.842105</td>\n",
              "      <td>0.8741</td>\n",
              "      <td>0.9077</td>\n",
              "      <td>0.52</td>\n",
              "      <td>0.52</td>\n",
              "      <td>0.520000</td>\n",
              "      <td>0.157895</td>\n",
              "      <td>0.157895</td>\n",
              "      <td>5.453554</td>\n",
              "      <td>0.852431</td>\n",
              "      <td>0.019825</td>\n",
              "    </tr>\n",
              "  </tbody>\n",
              "</table>\n",
              "</div>"
            ],
            "text/plain": [
              "                       Training Accuracy  ... Cross Validation Standard Deviation\n",
              "Classifier                                ...                                    \n",
              "K-Nearest Neighbors             0.810544  ...                            0.003047\n",
              "Logistic Regression             0.937397  ...                            0.035109\n",
              "Decision Tree                   0.948929  ...                            0.031065\n",
              "Support Vector Machine          0.812191  ...                            0.039856\n",
              "Voting                                    ...                            0.019462\n",
              "Random Forest                   0.952224  ...                            0.019825\n",
              "\n",
              "[6 rows x 12 columns]"
            ]
          },
          "metadata": {
            "tags": []
          },
          "execution_count": 38
        }
      ]
    },
    {
      "cell_type": "markdown",
      "metadata": {
        "id": "KaEQAnkrjl9c",
        "colab_type": "text"
      },
      "source": [
        "The following is a summary of the classification reports."
      ]
    },
    {
      "cell_type": "code",
      "metadata": {
        "id": "-N5FYdTuQBnn",
        "colab_type": "code",
        "outputId": "348fc62c-8f0b-4a55-991f-42d9b706b152",
        "colab": {
          "base_uri": "https://localhost:8080/",
          "height": 1000
        }
      },
      "source": [
        "print('Review of Classification Reports:')\n",
        "print('K-Nearest Neighbors Classification Report:')\n",
        "print(report_knn)\n",
        "print('Logistic Regression Classification Report:')\n",
        "print(report_lr)\n",
        "print('Decision Tree Classification Report:')\n",
        "print(report_dt)\n",
        "print('Support Vector Machine Classification Report:')\n",
        "print(report_svm)\n",
        "print('Voting Classification Report:')\n",
        "print(report_vote)\n",
        "print('Random Forest Classification Report:')\n",
        "print(report_rf)"
      ],
      "execution_count": 0,
      "outputs": [
        {
          "output_type": "stream",
          "text": [
            "Review of Classification Reports:\n",
            "K-Nearest Neighbors Classification Report:\n",
            "              precision    recall  f1-score   support\n",
            "\n",
            "           0       0.85      0.96      0.90       127\n",
            "           1       0.38      0.12      0.18        25\n",
            "\n",
            "    accuracy                           0.82       152\n",
            "   macro avg       0.61      0.54      0.54       152\n",
            "weighted avg       0.77      0.82      0.78       152\n",
            "\n",
            "Logistic Regression Classification Report:\n",
            "              precision    recall  f1-score   support\n",
            "\n",
            "           0       0.96      0.94      0.95       127\n",
            "           1       0.71      0.80      0.75        25\n",
            "\n",
            "    accuracy                           0.91       152\n",
            "   macro avg       0.84      0.87      0.85       152\n",
            "weighted avg       0.92      0.91      0.92       152\n",
            "\n",
            "Decision Tree Classification Report:\n",
            "              precision    recall  f1-score   support\n",
            "\n",
            "           0       0.92      0.91      0.92       127\n",
            "           1       0.58      0.60      0.59        25\n",
            "\n",
            "    accuracy                           0.86       152\n",
            "   macro avg       0.75      0.76      0.75       152\n",
            "weighted avg       0.86      0.86      0.86       152\n",
            "\n",
            "Support Vector Machine Classification Report:\n",
            "              precision    recall  f1-score   support\n",
            "\n",
            "           0       0.91      0.72      0.80       127\n",
            "           1       0.31      0.64      0.42        25\n",
            "\n",
            "    accuracy                           0.70       152\n",
            "   macro avg       0.61      0.68      0.61       152\n",
            "weighted avg       0.81      0.70      0.74       152\n",
            "\n",
            "Voting Classification Report:\n",
            "              precision    recall  f1-score   support\n",
            "\n",
            "           0       0.90      0.95      0.92       127\n",
            "           1       0.65      0.44      0.52        25\n",
            "\n",
            "    accuracy                           0.87       152\n",
            "   macro avg       0.77      0.70      0.72       152\n",
            "weighted avg       0.86      0.87      0.86       152\n",
            "\n",
            "Random Forest Classification Report:\n",
            "              precision    recall  f1-score   support\n",
            "\n",
            "           0       0.91      0.91      0.91       127\n",
            "           1       0.52      0.52      0.52        25\n",
            "\n",
            "    accuracy                           0.84       152\n",
            "   macro avg       0.71      0.71      0.71       152\n",
            "weighted avg       0.84      0.84      0.84       152\n",
            "\n"
          ],
          "name": "stdout"
        }
      ]
    },
    {
      "cell_type": "markdown",
      "metadata": {
        "id": "OYjceDlbjw_a",
        "colab_type": "text"
      },
      "source": [
        "The following is a summary of the confusion matrices."
      ]
    },
    {
      "cell_type": "code",
      "metadata": {
        "id": "VZZXLY6dr6XI",
        "colab_type": "code",
        "outputId": "b0d54e49-165f-472a-b86d-1bb932781586",
        "colab": {
          "base_uri": "https://localhost:8080/",
          "height": 355
        }
      },
      "source": [
        "print('Review of Confusion Matrices:')\n",
        "print('K-Nearest Neighbors Confusion Matrix:')\n",
        "print(conf_mat_knn)\n",
        "print('Logistic Regression Confusion Matrix:')\n",
        "print(conf_mat_lr)\n",
        "print('Decision Tree Confusion Matrix:')\n",
        "print(conf_mat_dt)\n",
        "print('Support Vector Machine Confusion Matrix:')\n",
        "print(conf_mat_svm)\n",
        "print('Voting Confusion Matrix:')\n",
        "print(conf_mat_vote)\n",
        "print('Random Forest Confusion Matrix:')\n",
        "print(conf_mat_rf)"
      ],
      "execution_count": 0,
      "outputs": [
        {
          "output_type": "stream",
          "text": [
            "Review of Confusion Matrices:\n",
            "K-Nearest Neighbors Confusion Matrix:\n",
            "[[122   5]\n",
            " [ 22   3]]\n",
            "Logistic Regression Confusion Matrix:\n",
            "[[119   8]\n",
            " [  5  20]]\n",
            "Decision Tree Confusion Matrix:\n",
            "[[116  11]\n",
            " [ 10  15]]\n",
            "Support Vector Machine Confusion Matrix:\n",
            "[[91 36]\n",
            " [ 9 16]]\n",
            "Voting Confusion Matrix:\n",
            "[[121   6]\n",
            " [ 14  11]]\n",
            "Random Forest Confusion Matrix:\n",
            "[[115  12]\n",
            " [ 12  13]]\n"
          ],
          "name": "stdout"
        }
      ]
    }
  ]
}